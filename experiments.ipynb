{
 "cells": [
  {
   "cell_type": "code",
   "execution_count": 188,
   "metadata": {},
   "outputs": [],
   "source": [
    "import copy\n",
    "import multiprocessing as mp\n",
    "import multiprocessing.dummy as dummy_mp\n",
    "import os\n",
    "import re\n",
    "from datetime import datetime\n",
    "from string import Template\n",
    "\n",
    "import pymorphy2\n",
    "from bs4 import BeautifulSoup\n",
    "from selenium import webdriver\n",
    "from selenium.common.exceptions import NoSuchElementException, TimeoutException\n",
    "from selenium.webdriver.common.by import By\n",
    "from selenium.webdriver.support import expected_conditions as EC\n",
    "from selenium.webdriver.support.ui import WebDriverWait\n",
    "\n",
    "FB_LOGIN = '89026051080'\n",
    "FB_PASSWORD = 'z6A-8Wd-XiV-VNY'\n",
    "login, password = FB_LOGIN, FB_PASSWORD\n",
    "\n",
    "__base_url = 'https://www.facebook.com'\n",
    "__base_group_url = 'https://www.facebook.com/groups'\n",
    "__login_url = 'https://www.facebook.com/login'\n",
    "\n",
    "options = webdriver.ChromeOptions()\n",
    "options.add_argument(\"--no-sandbox\")\n",
    "options.add_argument(\"--disable-gpu\")\n",
    "\n",
    "options.add_argument(\"--disable-software-rasterizer\")  # maybe not needed\n",
    "options.add_argument(\"--disable-dev-shm-usage\")  # maybe not needed\n",
    "\n",
    "browser = webdriver.Chrome(options = options)"
   ]
  },
  {
   "cell_type": "code",
   "execution_count": 189,
   "metadata": {},
   "outputs": [],
   "source": [
    "def enter_facebook(browser, login, password):\n",
    "    \"\"\"Login to fb\n",
    "\n",
    "    :param login: (str) fb login\n",
    "    :param password: (str) fb password\n",
    "\n",
    "    :return: -1 if error\n",
    "    \"\"\"\n",
    "    browser.get(__login_url)\n",
    "\n",
    "    try:\n",
    "        login_form = browser.find_element_by_xpath(\"//input[@id='email' or @name='email']\")\n",
    "        login_form.clear()\n",
    "        login_form.send_keys(login)\n",
    "    except Exception as e:\n",
    "        print(e)\n",
    "        print('error: email')\n",
    "        return -1\n",
    "\n",
    "    try:\n",
    "        pass_form = browser.find_element_by_xpath(\"//input[@id='pass' or @name='pass']\")\n",
    "        pass_form.clear()\n",
    "        pass_form.send_keys(password)\n",
    "    except Exception as e:\n",
    "        print(e)\n",
    "        print('error: password')\n",
    "        return -1\n",
    "\n",
    "    try:\n",
    "        browser.find_element_by_xpath(\"//button[@id='loginbutton']\").click()\n",
    "    except Exception as e:\n",
    "        print(e)\n",
    "        print('error: login button')\n",
    "        return -1\n",
    "\n",
    "    if 'login_attempt' in browser.current_url:\n",
    "        return -1"
   ]
  },
  {
   "cell_type": "code",
   "execution_count": 190,
   "metadata": {},
   "outputs": [],
   "source": [
    "enter_facebook(browser, FB_LOGIN, FB_PASSWORD)"
   ]
  },
  {
   "cell_type": "code",
   "execution_count": 12,
   "metadata": {
    "scrolled": true
   },
   "outputs": [],
   "source": [
    "# posts = fb.get_posts('100032357613324')\n",
    "page_id = '100032357613324'\n",
    "browser.get(__base_url + '/' + page_id)"
   ]
  },
  {
   "cell_type": "markdown",
   "metadata": {},
   "source": [
    "page_soup = BeautifulSoup(browser.page_source, 'lxml')"
   ]
  },
  {
   "cell_type": "code",
   "execution_count": 15,
   "metadata": {},
   "outputs": [],
   "source": [
    "nonavbl = page_soup.find('title', text=re.compile('.*Страница не найдена.*'))\n",
    "if nonavbl:\n",
    "    print('Страница не найдена')\n",
    "nonavbl = page_soup.find('h2', text=re.compile('.*Эта страница недоступна.*'))\n",
    "if nonavbl:\n",
    "    print('Эта страница недоступна')\n",
    "nonavbl = page_soup.find('h2', text=re.compile('.*К сожалению, этот контент сейчас недоступен.*'))\n",
    "if nonavbl:\n",
    "    print('К сожалению, этот контент сейчас недоступен')"
   ]
  },
  {
   "cell_type": "code",
   "execution_count": 16,
   "metadata": {},
   "outputs": [],
   "source": [
    "page_soup.find('title', text=re.compile('.*Страница не найдена.*'))"
   ]
  },
  {
   "cell_type": "markdown",
   "metadata": {},
   "source": [
    "### Блок для замены функции поиска постов"
   ]
  },
  {
   "cell_type": "code",
   "execution_count": 250,
   "metadata": {},
   "outputs": [],
   "source": [
    "from time import sleep \n",
    "from datetime import datetime, timedelta\n",
    "\n",
    "from selenium.webdriver.common.action_chains import ActionChains\n",
    "actions = ActionChains(browser)\n",
    "limit = 20"
   ]
  },
  {
   "cell_type": "code",
   "execution_count": 321,
   "metadata": {},
   "outputs": [
    {
     "data": {
      "text/plain": [
       "[datetime.datetime(2021, 3, 24, 0, 0),\n",
       " datetime.datetime(2021, 4, 10, 18, 33, 5, 628457),\n",
       " datetime.datetime(2021, 2, 11, 0, 0),\n",
       " datetime.datetime(2021, 4, 8, 19, 33, 5, 628457),\n",
       " datetime.datetime(2021, 4, 10, 19, 3, 5, 628457)]"
      ]
     },
     "execution_count": 321,
     "metadata": {},
     "output_type": "execute_result"
    }
   ],
   "source": [
    "date1 = '24 марта в 10:20'\n",
    "date2 = '1 ч.'\n",
    "date3 = '11 февраля'\n",
    "date4 = '2 д.'\n",
    "date5 = '30 мин.'\n",
    "\n",
    "textToDate_months = {\n",
    "    'января': 1,\n",
    "    'февраля': 2,\n",
    "    'марта': 3,\n",
    "    'фпреля': 4,\n",
    "    'мая': 5,\n",
    "    'июня': 6,\n",
    "    'июля': 7,\n",
    "    'августа': 8,\n",
    "    'сентября': 9,\n",
    "    'октября': 10,\n",
    "    'ноября': 11,\n",
    "    'декабря': 12\n",
    "}\n",
    "\n",
    "def textToDate(text):        \n",
    "    date = datetime.today()\n",
    "    if text:  \n",
    "        s = text.split()\n",
    "        t = int(s[0])\n",
    "        if 'ч.' in s[1]:\n",
    "            date -= timedelta(hours=t)\n",
    "        elif 'д.' in s[1]:\n",
    "            date -= timedelta(days=t)\n",
    "        elif 'мин.' in s[1]:\n",
    "            date -= timedelta(minutes=t)\n",
    "        else:\n",
    "            date = datetime(date.year, int(textToDate_months.get(s[1], date.month)), t)                \n",
    "    return date\n",
    "    \n",
    "\n",
    "[textToDate(d) for d in [date1, date2, date3, date4, date5]]"
   ]
  },
  {
   "cell_type": "code",
   "execution_count": 317,
   "metadata": {},
   "outputs": [],
   "source": [
    "def getPostDate(browser, post):\n",
    "    browser.execute_script(\"arguments[0].scrollIntoView();\", post)\n",
    "    abilities = post.find_elements_by_xpath('.//span/a/span')\n",
    "    if len(abilities)> 0:\n",
    "        return textToDate(abilities[0].text)\n",
    "    return datetime.today()            "
   ]
  },
  {
   "cell_type": "code",
   "execution_count": 197,
   "metadata": {},
   "outputs": [],
   "source": [
    "# try:\n",
    "#     WebDriverWait(browser, 5).until(EC.presence_of_element_located((By.TAG_NAME, \"div[role='article']\")))\n",
    "# except TimeoutException:\n",
    "#     print(posts_list) "
   ]
  },
  {
   "cell_type": "code",
   "execution_count": 339,
   "metadata": {},
   "outputs": [],
   "source": [
    "from_date = datetime.today() - timedelta(days=2)"
   ]
  },
  {
   "cell_type": "code",
   "execution_count": 348,
   "metadata": {},
   "outputs": [
    {
     "name": "stdout",
     "output_type": "stream",
     "text": [
      "80 0\n",
      "83 80\n",
      "86 83\n",
      "89 86\n",
      "92 89\n",
      "95 92\n",
      "98 95\n",
      "101 98\n",
      "104 101\n",
      "107 104\n",
      "110 107\n",
      "113 110\n",
      "116 113\n",
      "113 113\n"
     ]
    }
   ],
   "source": [
    "postcount = -1\n",
    "posts_list = []\n",
    "error_count = 0\n",
    "mindate = datetime.today()\n",
    "\n",
    "while ((not from_date and len(posts_list) < limit) or (from_date and mindate >= from_date)) and len(posts_list) != postcount:\n",
    "    postcount = len(posts_list)\n",
    "    for i in range(3):\n",
    "        browser.execute_script(\"window.scrollTo(0, document.body.scrollHeight);\")\n",
    "    sleep(0.5)\n",
    "    posts_list = browser.find_elements_by_tag_name(\"div[role='article'][aria-posinset]\")\n",
    "    if len(posts_list)>0:\n",
    "        mindate = getPostDate(browser, posts_list[-1])\n",
    "    print(len(posts_list), postcount)\n",
    "\n",
    "posts_list = [post for post in posts_list if getPostDate(browser, post) >= from_date]\n",
    "print(len(posts_list), postcount)"
   ]
  },
  {
   "cell_type": "code",
   "execution_count": 347,
   "metadata": {},
   "outputs": [
    {
     "data": {
      "text/plain": [
       "True"
      ]
     },
     "execution_count": 347,
     "metadata": {},
     "output_type": "execute_result"
    }
   ],
   "source": [
    " from_date and mindate >= from_date"
   ]
  },
  {
   "cell_type": "code",
   "execution_count": 312,
   "metadata": {},
   "outputs": [],
   "source": [
    "post = posts_list[7]"
   ]
  },
  {
   "cell_type": "code",
   "execution_count": 260,
   "metadata": {},
   "outputs": [],
   "source": [
    "more = post.find_elements_by_xpath('.//div[contains(text(), \"Ещё\")]')\n",
    "if more:\n",
    "    more[0].click()\n",
    "    \n",
    "more_comments_finder = lambda: post.find_elements_by_xpath('.//span[starts-with(text(), \"Посмотреть ещё\")]') + post.find_elements_by_xpath('.//span[starts-with(text(), \"Показать ещё\")]')\n",
    "more_comments = more_comments_finder()\n",
    "while more_comments:\n",
    "    more_comments[0].click()\n",
    "    sleep(1)\n",
    "    more_comments = more_comments_finder()    \n",
    "    \n",
    "comments = post.find_elements_by_tag_name(\"ul\")[1]"
   ]
  },
  {
   "cell_type": "code",
   "execution_count": 341,
   "metadata": {},
   "outputs": [
    {
     "name": "stdout",
     "output_type": "stream",
     "text": [
      "29\n",
      "29\n"
     ]
    },
    {
     "data": {
      "text/plain": [
       "[datetime.datetime(2021, 4, 10, 19, 55, 51, 558392),\n",
       " datetime.datetime(2021, 4, 10, 19, 52, 51, 652348),\n",
       " datetime.datetime(2021, 4, 10, 19, 21, 51, 728294),\n",
       " datetime.datetime(2021, 4, 10, 19, 9, 51, 783822),\n",
       " datetime.datetime(2021, 4, 10, 17, 9, 51, 861778),\n",
       " datetime.datetime(2021, 4, 10, 16, 9, 51, 934736),\n",
       " datetime.datetime(2021, 4, 10, 16, 9, 52, 40686),\n",
       " datetime.datetime(2021, 4, 10, 15, 9, 52, 132647),\n",
       " datetime.datetime(2021, 4, 10, 14, 9, 52, 220597),\n",
       " datetime.datetime(2021, 4, 10, 14, 9, 52, 313541),\n",
       " datetime.datetime(2021, 4, 10, 13, 9, 52, 393495),\n",
       " datetime.datetime(2021, 4, 10, 12, 9, 52, 476709),\n",
       " datetime.datetime(2021, 4, 10, 12, 9, 52, 566659),\n",
       " datetime.datetime(2021, 4, 10, 11, 9, 52, 659623),\n",
       " datetime.datetime(2021, 4, 10, 10, 9, 52, 761529),\n",
       " datetime.datetime(2021, 4, 10, 10, 9, 52, 845480),\n",
       " datetime.datetime(2021, 4, 10, 9, 9, 52, 940442),\n",
       " datetime.datetime(2021, 4, 10, 8, 9, 53, 30393),\n",
       " datetime.datetime(2021, 4, 10, 7, 9, 53, 122332),\n",
       " datetime.datetime(2021, 4, 10, 6, 9, 53, 215269),\n",
       " datetime.datetime(2021, 4, 10, 5, 9, 53, 303218),\n",
       " datetime.datetime(2021, 4, 10, 4, 9, 53, 394234),\n",
       " datetime.datetime(2021, 4, 10, 3, 9, 53, 488071),\n",
       " datetime.datetime(2021, 4, 10, 2, 9, 53, 578022),\n",
       " datetime.datetime(2021, 4, 10, 1, 9, 53, 676965),\n",
       " datetime.datetime(2021, 4, 10, 0, 9, 53, 764922),\n",
       " datetime.datetime(2021, 4, 9, 23, 9, 53, 859604),\n",
       " datetime.datetime(2021, 4, 9, 23, 9, 53, 955568),\n",
       " datetime.datetime(2021, 4, 9, 22, 9, 54, 26223)]"
      ]
     },
     "execution_count": 341,
     "metadata": {},
     "output_type": "execute_result"
    }
   ],
   "source": [
    "print(len(posts_list))\n",
    "dates = [getPostDate(browser, post) for post in posts_list]\n",
    "print(len(dates))\n",
    "dates"
   ]
  },
  {
   "cell_type": "code",
   "execution_count": 234,
   "metadata": {},
   "outputs": [
    {
     "data": {
      "text/plain": [
       "'<div class=\"j83agx80 cbu4d94t\" style=\"\"><div class=\"rq0escxv l9j0dhe7 du4w35lb\"><div class=\"j83agx80 l9j0dhe7 k4urcfbm\"><div class=\"rq0escxv l9j0dhe7 du4w35lb hybvsw6c io0zqebd m5lcvass fbipl8qg nwvqtn77 k4urcfbm ni8dbmo4 stjgntxs sbcfpzgs\" style=\"border-radius: max(0px, min(8px, ((100vw - 4px) - 100%) * 9999)) / 8px;\"><div><div></div><div><div><div></div><div><div class=\"pybr56ya dati1w0a hv4rvrfc n851cfcs btwxx1t3 j83agx80 ll8tlv6m\"><div class=\"oi9244e8 do00u71z j83agx80\"><div class=\"nc684nl6\"><a aria-hidden=\"true\" class=\"oajrlxb2 g5ia77u1 qu0x051f esr5mh6w e9989ue4 r7d6kgcz rq0escxv nhd2j8a9 nc684nl6 p7hjln8o kvgmc6g5 cxmmr5t8 oygrvhab hcukyx3x jb3vyjys rz4wbd8a qt6c0cv9 a8nywdso i1ao9s8h esuyzwwr f1sip0of lzcic4wl oo9gr5id gpro0wi8\" href=\"https://www.facebook.com/themeduza/?__cft__[0]=AZWgRp8yGuxab7xBmkaoHAkvE6SQd6_-7WVpzAw-WWJLmjnOKkQNvHBlcUJQvo3qaDwjB1aFjnCaB7Bq-ubBhcCLvO-gvPdBMLyg8xWsSsqAsmYHmXM3mcPwJ1a9r0lzgf4wDBDETFp64rQq2htclwtn&amp;__tn__=%3C%2CP-R\" role=\"link\" tabindex=\"-1\"><div class=\"q676j6op qypqp5cg\"><object type=\"nested/pressable\"><a aria-label=\"Meduza\" class=\"oajrlxb2 gs1a9yip g5ia77u1 mtkw9kbi tlpljxtp qensuy8j ppp5ayq2 goun2846 ccm00jje s44p3ltw mk2mc5f4 rt8b4zig n8ej3o3l agehan2d sk4xxmp2 rq0escxv nhd2j8a9 q9uorilb mg4g778l btwxx1t3 pfnyh3mw p7hjln8o kvgmc6g5 cxmmr5t8 oygrvhab hcukyx3x tgvbjcpo hpfvmrgz jb3vyjys rz4wbd8a qt6c0cv9 a8nywdso l9j0dhe7 i1ao9s8h esuyzwwr f1sip0of du4w35lb lzcic4wl abiwlrkh p8dawk7l oo9gr5id\" href=\"/stories/1514441088682958/UzpfSVNDOjE5NjM2NDY3ODA0NTY3MzQ=/?view_single=true&amp;__cft__[0]=AZWgRp8yGuxab7xBmkaoHAkvE6SQd6_-7WVpzAw-WWJLmjnOKkQNvHBlcUJQvo3qaDwjB1aFjnCaB7Bq-ubBhcCLvO-gvPdBMLyg8xWsSsqAsmYHmXM3mcPwJ1a9r0lzgf4wDBDETFp64rQq2htclwtn&amp;__tn__=%3C%3C%2CP-R\" role=\"link\" tabindex=\"0\"><div class=\"q9uorilb l9j0dhe7 pzggbiyp du4w35lb\"><svg aria-hidden=\"true\" class=\"pzggbiyp\" data-visualcompletion=\"ignore-dynamic\" role=\"none\" style=\"height: 40px; width: 40px;\"><mask id=\"jsc_c_1e\"><circle cx=\"20\" cy=\"20\" fill=\"white\" r=\"20\"></circle><circle cx=\"20\" cy=\"20\" fill=\"transparent\" r=\"17\" stroke=\"black\" stroke-width=\"2\"></circle></mask><g mask=\"url(#jsc_c_1e)\"><image x=\"4\" y=\"4\" height=\"100%\" preserveAspectRatio=\"xMidYMid slice\" width=\"100%\" xlink:href=\"https://scontent.fhel6-1.fna.fbcdn.net/v/t1.6435-1/cp0/p40x40/121376610_1807321742755906_2994727913837749271_n.png?_nc_cat=1&amp;ccb=1-3&amp;_nc_sid=1eb0c7&amp;_nc_ohc=L93b8gUKaNUAX9DhLYB&amp;_nc_ht=scontent.fhel6-1.fna&amp;_nc_tp=30&amp;oh=6727df71cfff894557a5b476622a48a3&amp;oe=6095FA42\" style=\"height: 32px; width: 32px;\"></image><circle class=\"mlqo0dh0 georvekb s6kb5r3f\" cx=\"20\" cy=\"20\" r=\"20\"></circle><circle class=\"s06bi357 s6kb5r3f\" cx=\"20\" cy=\"20\" fill=\"transparent\" r=\"19\" stroke=\"var(--accent)\" stroke-width=\"2\"></circle></g></svg><div class=\"s45kfl79 emlxlaya bkmhp75w spb7xbtv i09qtzwb n7fi1qx3 b5wmifdl hzruof5a pmk7jnqg j9ispegn kr520xx4 c5ndavph art1omkt ot9fgl3s\" data-visualcompletion=\"ignore\"></div></div></a></object></div></a></div></div><div class=\"buofh1pr\"><div class=\"j83agx80 cbu4d94t ew0dbk1b irj2b8pg\"><div class=\"qzhwtbm6 knvmm38d\"><span class=\"d2edcug0 hpfvmrgz qv66sw1b c1et5uql lr9zc1uh a8c37x1j keod5gw0 nxhoafnm aigsh9s9 d3f4x2em fe6kdd0r mau55g9w c8b282yb iv3no6db jq4qci2q a3bd9o3v knj5qynh m9osqain hzawbc8m\" dir=\"auto\"><h2 id=\"jsc_c_18\" class=\"gmql0nx0 l94mrbxd p1ri9a11 lzcic4wl aahdfvyu hzawbc8m\" dir=\"auto\"><div class=\"nc684nl6\"><a class=\"oajrlxb2 g5ia77u1 qu0x051f esr5mh6w e9989ue4 r7d6kgcz rq0escxv nhd2j8a9 nc684nl6 p7hjln8o kvgmc6g5 cxmmr5t8 oygrvhab hcukyx3x jb3vyjys rz4wbd8a qt6c0cv9 a8nywdso i1ao9s8h esuyzwwr f1sip0of lzcic4wl oo9gr5id gpro0wi8 lrazzd5p\" href=\"https://www.facebook.com/themeduza/?__cft__[0]=AZWgRp8yGuxab7xBmkaoHAkvE6SQd6_-7WVpzAw-WWJLmjnOKkQNvHBlcUJQvo3qaDwjB1aFjnCaB7Bq-ubBhcCLvO-gvPdBMLyg8xWsSsqAsmYHmXM3mcPwJ1a9r0lzgf4wDBDETFp64rQq2htclwtn&amp;__tn__=-UC%2CP-R\" role=\"link\" tabindex=\"0\"><strong><span>Meduza</span></strong></a></div><span class=\"l9j0dhe7 h3qc4492\">&nbsp;<div class=\"nc684nl6\"><div aria-label=\"Проверка пройдена успешно\" class=\"oajrlxb2 gs1a9yip g5ia77u1 mtkw9kbi tlpljxtp qensuy8j ppp5ayq2 goun2846 ccm00jje s44p3ltw mk2mc5f4 rt8b4zig n8ej3o3l agehan2d sk4xxmp2 rq0escxv bnpdmtie pq6dq46d mg4g778l btwxx1t3 pfnyh3mw p7hjln8o kvgmc6g5 cxmmr5t8 oygrvhab hcukyx3x tgvbjcpo hpfvmrgz jb3vyjys rz4wbd8a qt6c0cv9 a8nywdso l9j0dhe7 i1ao9s8h esuyzwwr f1sip0of du4w35lb lzcic4wl abiwlrkh p8dawk7l\" role=\"button\" tabindex=\"0\"><span class=\"hrs1iv20 pq6dq46d\"><i aria-label=\"Подтвержденный аккаунт\" role=\"img\" style=\"background-image: url(&quot;https://static.xx.fbcdn.net/rsrc.php/v3/yl/r/7XZjj2jF_kc.png&quot;); background-position: 0px -1167px; background-size: auto; width: 12px; height: 12px; background-repeat: no-repeat; display: inline-block;\"></i></span><div class=\"s45kfl79 emlxlaya bkmhp75w spb7xbtv i09qtzwb n7fi1qx3 b5wmifdl hzruof5a pmk7jnqg j9ispegn kr520xx4 c5ndavph art1omkt ot9fgl3s\" data-visualcompletion=\"ignore\"></div></div></div></span></h2></span></div><div class=\"qzhwtbm6 knvmm38d\"><span class=\"d2edcug0 hpfvmrgz qv66sw1b c1et5uql lr9zc1uh a8c37x1j keod5gw0 nxhoafnm aigsh9s9 d9wwppkn fe6kdd0r mau55g9w c8b282yb mdeji52x e9vueds3 j5wam9gi knj5qynh m9osqain hzawbc8m\" dir=\"auto\"><span id=\"jsc_c_19\"><span class=\"jpp8pzdo\"><span><span class=\"rfua0xdk pmk7jnqg stjgntxs ni8dbmo4 ay7djpcl q45zohi1\">&nbsp;</span><span aria-hidden=\"true\"> · </span></span></span><span><span class=\"tojvnm2t a6sixzi8 abs2jz4q a8s20v7p t1p8iaqh k5wvi7nf q3lfd5jv pk4s997a bipmatt0 cebpdrjk qowsmv63 owwhemhu dp1hu0rb dhp61c6y iyyx5f41\"><a aria-label=\"22 ч.\" class=\"oajrlxb2 g5ia77u1 qu0x051f esr5mh6w e9989ue4 r7d6kgcz rq0escxv nhd2j8a9 nc684nl6 p7hjln8o kvgmc6g5 cxmmr5t8 oygrvhab hcukyx3x jb3vyjys rz4wbd8a qt6c0cv9 a8nywdso i1ao9s8h esuyzwwr f1sip0of lzcic4wl gmql0nx0 gpro0wi8 b1v8xokw\" href=\"https://www.facebook.com/themeduza/posts/1963666257121453?__cft__[0]=AZWgRp8yGuxab7xBmkaoHAkvE6SQd6_-7WVpzAw-WWJLmjnOKkQNvHBlcUJQvo3qaDwjB1aFjnCaB7Bq-ubBhcCLvO-gvPdBMLyg8xWsSsqAsmYHmXM3mcPwJ1a9r0lzgf4wDBDETFp64rQq2htclwtn&amp;__tn__=%2CO%2CP-R\" role=\"link\" tabindex=\"0\"><span>22 ч.</span></a></span></span><span class=\"jpp8pzdo\"><span><span class=\"rfua0xdk pmk7jnqg stjgntxs ni8dbmo4 ay7djpcl q45zohi1\">&nbsp;</span><span aria-hidden=\"true\"> · </span></span></span><span class=\"g0qnabr5\"><span class=\"tojvnm2t a6sixzi8 abs2jz4q a8s20v7p t1p8iaqh k5wvi7nf q3lfd5jv pk4s997a bipmatt0 cebpdrjk qowsmv63 owwhemhu dp1hu0rb dhp61c6y iyyx5f41\"><span class=\"ormqv51v l9j0dhe7\"><i class=\"hu5pjgll m6k467ps\" aria-label=\"Это видят: Доступно всем\" role=\"img\" style=\"background-image: url(&quot;https://static.xx.fbcdn.net/rsrc.php/v3/yx/r/NCBgFjdyRyw.png&quot;); background-position: -26px -307px; background-size: auto; width: 12px; height: 12px; background-repeat: no-repeat; display: inline-block;\"></i></span></span></span></span></span></div></div></div><div class=\"nqmvxvec j83agx80 jnigpg78 cxgpxx05 dflh9lhu sj5x9vvc scb9dxdr odw8uiq3\"><div aria-expanded=\"false\" aria-haspopup=\"menu\" aria-label=\"Действия для этой публикации\" class=\"oajrlxb2 gs1a9yip g5ia77u1 mtkw9kbi tlpljxtp qensuy8j ppp5ayq2 goun2846 ccm00jje s44p3ltw mk2mc5f4 rt8b4zig n8ej3o3l agehan2d sk4xxmp2 rq0escxv nhd2j8a9 pq6dq46d mg4g778l btwxx1t3 pfnyh3mw p7hjln8o kvgmc6g5 cxmmr5t8 oygrvhab hcukyx3x tgvbjcpo hpfvmrgz jb3vyjys rz4wbd8a qt6c0cv9 a8nywdso l9j0dhe7 i1ao9s8h esuyzwwr f1sip0of du4w35lb lzcic4wl abiwlrkh p8dawk7l dwo3fsh8 pzggbiyp pkj7ub1o bqnlxs5p kkg9azqs c24pa1uk ln9iyx3p fe6kdd0r ar1oviwq l10q8mi9 sq40qgkc s8quxz6p pdjglbur\" role=\"button\" tabindex=\"0\"><i class=\"hu5pjgll m6k467ps\" style=\"background-image: url(&quot;https://static.xx.fbcdn.net/rsrc.php/v3/yl/r/7XZjj2jF_kc.png&quot;); background-position: 0px -633px; background-size: auto; width: 20px; height: 20px; background-repeat: no-repeat; display: inline-block;\"></i><div class=\"s45kfl79 emlxlaya bkmhp75w spb7xbtv i09qtzwb n7fi1qx3 b5wmifdl hzruof5a pmk7jnqg j9ispegn kr520xx4 c5ndavph art1omkt ot9fgl3s\" data-visualcompletion=\"ignore\" style=\"inset: -8px;\"></div></div></div></div></div><div><div class=\"\" dir=\"auto\"><div class=\"ecm0bbzt hv4rvrfc ihqw7lf3 dati1w0a\" data-ad-comet-preview=\"message\" data-ad-preview=\"message\" id=\"jsc_c_1a\"><div class=\"j83agx80 cbu4d94t ew0dbk1b irj2b8pg\"><div class=\"qzhwtbm6 knvmm38d\"><span class=\"d2edcug0 hpfvmrgz qv66sw1b c1et5uql lr9zc1uh a8c37x1j keod5gw0 nxhoafnm aigsh9s9 d3f4x2em fe6kdd0r mau55g9w c8b282yb iv3no6db jq4qci2q a3bd9o3v knj5qynh oo9gr5id hzawbc8m\" dir=\"auto\"><div class=\"kvgmc6g5 cxmmr5t8 oygrvhab hcukyx3x c1et5uql ii04i59q\"><div dir=\"auto\" style=\"text-align: start;\">В Китае идет кампания бойкота H&amp;M, Adidas, Nike и других брендов. Эти корпорации высказались по поводу притеснения в КНР тюркского меньшинства — уйгуров. Китайское руководство, как утверждают правозащитники, принуждает уйгуров к бесплатному труду и нарушает их права.</div></div><div class=\"o9v6fnle cxmmr5t8 oygrvhab hcukyx3x c1et5uql ii04i59q\"><div dir=\"auto\" style=\"text-align: start;\">Парадокс в том, что многие китайцы поддерживают политику Пекина по отношению к уйгурам.</div></div><div class=\"o9v6fnle cxmmr5t8 oygrvhab hcukyx3x c1et5uql ii04i59q\"><div dir=\"auto\" style=\"text-align: start;\">В подкасте «Что случилось» китаист Александр Габуев рассказывает, что известно о китайском национализме. И объясняет, как колониальное прошлое и распад СССР — нет, не оправдывают, но делают более понятными причины китайской репрессивной политики в отношении населения Синьцзян-Уйгурского автономного округа, Тибета и даже Гонконга.</div></div></span></div></div></div></div><div class=\"l9j0dhe7\" id=\"jsc_c_1b\"><div class=\"l9j0dhe7\"><div><div class=\"b3i9ofy5 l9j0dhe7\"><div class=\"j83agx80 soycq5t1 ni8dbmo4 stjgntxs l9j0dhe7\"><a class=\"oajrlxb2 g5ia77u1 qu0x051f esr5mh6w e9989ue4 r7d6kgcz rq0escxv nhd2j8a9 nc684nl6 p7hjln8o kvgmc6g5 cxmmr5t8 oygrvhab hcukyx3x jb3vyjys rz4wbd8a qt6c0cv9 a8nywdso i1ao9s8h esuyzwwr f1sip0of lzcic4wl gmql0nx0 gpro0wi8 datstx6m k4urcfbm\" href=\"https://meduza.io/episodes/2021/04/09/kitay-prevratil-zhizn-uygurov-v-ad-i-pohozhe-mnogim-kitaytsam-eto-nravitsya?utm_source=facebook&amp;utm_medium=main&amp;fbclid=IwAR3SlCpKvnszmEdfCJb5UZuXgGdW7-gj3ZdBiRKo-idkI9q2-MWte_638i8\" rel=\"nofollow noopener\" role=\"link\" tabindex=\"0\" target=\"_blank\"><div class=\"bp9cbjyn cwj9ozl2 j83agx80 cbu4d94t ni8dbmo4 stjgntxs l9j0dhe7 k4urcfbm\"><div style=\"max-width: 100%; min-width: 500px; width: calc((100vh + -325px) * 1.91571);\"><div class=\"do00u71z ni8dbmo4 stjgntxs l9j0dhe7\" style=\"padding-top: 52.2%;\"><div class=\"pmk7jnqg kr520xx4\" style=\"height: 100%; left: 0%; width: calc(100%);\"><img height=\"261\" width=\"500\" alt=\"Китай превратил жизнь уйгуров в ад. И, похоже, многим китайцам это нравится — Meduza\" class=\"i09qtzwb n7fi1qx3 datstx6m pmk7jnqg j9ispegn kr520xx4 k4urcfbm bixrwtb6\" referrerpolicy=\"origin-when-cross-origin\" src=\"https://external.fhel6-1.fna.fbcdn.net/safe_image.php?d=AQFu77XIkWCRppjg&amp;w=500&amp;h=261&amp;url=https%3A%2F%2Fmeduza.io%2Fimgly%2Fshare%2F1617980423%2Fepisodes%2F2021%2F04%2F09%2Fkitay-prevratil-zhizn-uygurov-v-ad-i-pohozhe-mnogim-kitaytsam-eto-nravitsya&amp;cfs=1&amp;ext=jpg&amp;ccb=3-4&amp;_nc_hash=AQGbhWLju0Qotpgg\"></div></div></div></div><div class=\"i09qtzwb rq0escxv n7fi1qx3 pmk7jnqg j9ispegn kr520xx4 linmgsc8 opwvks06 hzruof5a\"></div></a></div></div></div><div class=\"o0s42vec pmk7jnqg ehxjyohh b4oskaiq\"><div aria-label=\"Ещё\" class=\"oajrlxb2 g5ia77u1 qu0x051f esr5mh6w e9989ue4 r7d6kgcz rq0escxv nhd2j8a9 nc684nl6 p7hjln8o kvgmc6g5 cxmmr5t8 oygrvhab hcukyx3x jb3vyjys rz4wbd8a qt6c0cv9 a8nywdso i1ao9s8h esuyzwwr f1sip0of lzcic4wl gmql0nx0 gpro0wi8\" role=\"button\" tabindex=\"0\"><div class=\"bp9cbjyn cwj9ozl2 opwvks06 hop1g133 linmgsc8 t63ysoy8 cmek9o9a p7f4f6cj c8oo3d72 r15kkdkt oo9gr5id j83agx80 mudddibn taijpn5t ciadx1gn\"><span class=\"tojvnm2t a6sixzi8 abs2jz4q a8s20v7p t1p8iaqh k5wvi7nf q3lfd5jv pk4s997a bipmatt0 cebpdrjk qowsmv63 owwhemhu dp1hu0rb dhp61c6y iyyx5f41\"><i class=\"hu5pjgll lzf7d6o1\" style=\"background-image: url(&quot;https://static.xx.fbcdn.net/rsrc.php/v3/yx/r/NCBgFjdyRyw.png&quot;); background-position: -21px -148px; background-size: auto; width: 20px; height: 20px; background-repeat: no-repeat; display: inline-block;\"></i></span></div></div></div></div><div class=\"stjgntxs ni8dbmo4\"><div class=\"l9j0dhe7\"><a class=\"oajrlxb2 g5ia77u1 qu0x051f esr5mh6w e9989ue4 r7d6kgcz rq0escxv nhd2j8a9 a8c37x1j p7hjln8o kvgmc6g5 cxmmr5t8 oygrvhab hcukyx3x jb3vyjys rz4wbd8a qt6c0cv9 a8nywdso i1ao9s8h esuyzwwr f1sip0of lzcic4wl gmql0nx0 p8dawk7l\" href=\"https://meduza.io/episodes/2021/04/09/kitay-prevratil-zhizn-uygurov-v-ad-i-pohozhe-mnogim-kitaytsam-eto-nravitsya?utm_source=facebook&amp;utm_medium=main&amp;fbclid=IwAR2a5FH7P4OPp-w-f-p3YPTvr0clq2bd7uoE56-B-38nLL13ao_Qqohaqr8\" rel=\"nofollow noopener\" role=\"link\" tabindex=\"0\" target=\"_blank\"><div class=\"b3i9ofy5 s1tcr66n l9j0dhe7 p8dawk7l\"><div class=\"rq0escxv l9j0dhe7 du4w35lb j83agx80 pfnyh3mw i1fnvgqd bp9cbjyn owycx6da btwxx1t3 b5q2rw42 lq239pai f10w8fjw hv4rvrfc dati1w0a pybr56ya\"><div class=\"rq0escxv l9j0dhe7 du4w35lb d2edcug0 hpfvmrgz rj1gh0hx buofh1pr g5gj957u p8fzw8mz pcp91wgn\"><div class=\"bi6gxh9e sqxagodl\"><span class=\"d2edcug0 hpfvmrgz qv66sw1b c1et5uql lr9zc1uh a8c37x1j keod5gw0 nxhoafnm aigsh9s9 d9wwppkn fe6kdd0r mau55g9w c8b282yb iv3no6db e9vueds3 j5wam9gi knj5qynh m9osqain\" dir=\"auto\"><span class=\"a8c37x1j ni8dbmo4 stjgntxs l9j0dhe7 ltmttdrg g0qnabr5 ojkyduve\">meduza.io</span></span></div><div class=\"enqfppq2 muag1w35 ni8dbmo4 stjgntxs e5nlhep0 ecm0bbzt rq0escxv a5q79mjw r9c01rrb\"><div class=\"j83agx80 cbu4d94t ew0dbk1b irj2b8pg\"><div class=\"qzhwtbm6 knvmm38d\"><span class=\"d2edcug0 hpfvmrgz qv66sw1b c1et5uql lr9zc1uh a8c37x1j keod5gw0 nxhoafnm aigsh9s9 d3f4x2em fe6kdd0r mau55g9w c8b282yb iv3no6db a5q79mjw g1cxx5fr lrazzd5p oo9gr5id hzawbc8m\" dir=\"auto\"><span class=\"a8c37x1j ni8dbmo4 stjgntxs l9j0dhe7 ojkyduve\" style=\"-webkit-box-orient: vertical; -webkit-line-clamp: 2; display: -webkit-box;\"><span dir=\"auto\">Китай превратил жизнь уйгуров в ад. И, похоже, многим китайцам это нравится — Meduza</span></span></span></div><div class=\"qzhwtbm6 knvmm38d\"><span class=\"d2edcug0 hpfvmrgz qv66sw1b c1et5uql lr9zc1uh a8c37x1j keod5gw0 nxhoafnm aigsh9s9 d3f4x2em fe6kdd0r mau55g9w c8b282yb iv3no6db jq4qci2q a3bd9o3v knj5qynh m9osqain hzawbc8m\" dir=\"auto\"><span class=\"a8c37x1j ni8dbmo4 stjgntxs l9j0dhe7 ltmttdrg g0qnabr5\"><span>Китай развернул кампанию против H&amp;M, Adidas, Nike, Gap и других производителей одежды, которые высказались против притеснения мусульман-уйгуров в Синьцзян-Уйгурском автон....</span></span></span></div></div></div></div><div class=\"rq0escxv l9j0dhe7 du4w35lb j83agx80 cbu4d94t pfnyh3mw d2edcug0 hpfvmrgz p8fzw8mz pcp91wgn\"></div></div></div></a></div></div></div></div><div><div class=\"stjgntxs ni8dbmo4 l82x9zwi uo3d90p7 h905i5nu monazrh9\" data-visualcompletion=\"ignore-dynamic\"><div><div><div><div class=\"l9j0dhe7\"><div class=\"bp9cbjyn m9osqain j83agx80 jq4qci2q bkfpd7mw a3bd9o3v kvgmc6g5 wkznzc2l oygrvhab dhix69tm jktsbyx5 rz4wbd8a osnr6wyh a8nywdso s1tcr66n\"><div class=\"bp9cbjyn j83agx80 buofh1pr ni8dbmo4 stjgntxs\"><span aria-label=\"Посмотрите, кто отреагировал на это\" class=\"du4w35lb\" role=\"toolbar\"><span id=\"jsc_c_1d\" class=\"bp9cbjyn j83agx80 b3onmgus\"><span class=\"np69z8it et4y5ytx j7g94pet b74d5cxt qw6c0r16 kb8x4rkr ed597pkb omcyoz59 goun2846 ccm00jje s44p3ltw mk2mc5f4 qxh1up0x qtyiw8t4 tpcyxxvw k0bpgpbk hm271qws rl04r1d5 l9j0dhe7 ov9facns kavbgo14\"><span class=\"t0qjyqq4 jos75b7i j6sty90h kv0toi1t q9uorilb hm271qws ov9facns\"><span class=\"tojvnm2t a6sixzi8 abs2jz4q a8s20v7p t1p8iaqh k5wvi7nf q3lfd5jv pk4s997a bipmatt0 cebpdrjk qowsmv63 owwhemhu dp1hu0rb dhp61c6y iyyx5f41\"><div aria-label=\"Нравится: 10 человек\" class=\"oajrlxb2 g5ia77u1 qu0x051f esr5mh6w e9989ue4 r7d6kgcz rq0escxv nhd2j8a9 nc684nl6 p7hjln8o kvgmc6g5 cxmmr5t8 oygrvhab hcukyx3x jb3vyjys rz4wbd8a qt6c0cv9 a8nywdso i1ao9s8h esuyzwwr f1sip0of lzcic4wl l9j0dhe7 abiwlrkh p8dawk7l\" role=\"button\" tabindex=\"0\"><img class=\"j1lvzwm4\" height=\"18\" src=\"data:image/svg+xml,%3csvg xmlns=\\'http://www.w3.org/2000/svg\\' xmlns:xlink=\\'http://www.w3.org/1999/xlink\\' viewBox=\\'0 0 16 16\\'%3e%3cdefs%3e%3clinearGradient id=\\'a\\' x1=\\'50%25\\' x2=\\'50%25\\' y1=\\'0%25\\' y2=\\'100%25\\'%3e%3cstop offset=\\'0%25\\' stop-color=\\'%2318AFFF\\'/%3e%3cstop offset=\\'100%25\\' stop-color=\\'%230062DF\\'/%3e%3c/linearGradient%3e%3cfilter id=\\'c\\' width=\\'118.8%25\\' height=\\'118.8%25\\' x=\\'-9.4%25\\' y=\\'-9.4%25\\' filterUnits=\\'objectBoundingBox\\'%3e%3cfeGaussianBlur in=\\'SourceAlpha\\' result=\\'shadowBlurInner1\\' stdDeviation=\\'1\\'/%3e%3cfeOffset dy=\\'-1\\' in=\\'shadowBlurInner1\\' result=\\'shadowOffsetInner1\\'/%3e%3cfeComposite in=\\'shadowOffsetInner1\\' in2=\\'SourceAlpha\\' k2=\\'-1\\' k3=\\'1\\' operator=\\'arithmetic\\' result=\\'shadowInnerInner1\\'/%3e%3cfeColorMatrix in=\\'shadowInnerInner1\\' values=\\'0 0 0 0 0 0 0 0 0 0.299356041 0 0 0 0 0.681187726 0 0 0 0.3495684 0\\'/%3e%3c/filter%3e%3cpath id=\\'b\\' d=\\'M8 0a8 8 0 00-8 8 8 8 0 1016 0 8 8 0 00-8-8z\\'/%3e%3c/defs%3e%3cg fill=\\'none\\'%3e%3cuse fill=\\'url(%23a)\\' xlink:href=\\'%23b\\'/%3e%3cuse fill=\\'black\\' filter=\\'url(%23c)\\' xlink:href=\\'%23b\\'/%3e%3cpath fill=\\'white\\' d=\\'M12.162 7.338c.176.123.338.245.338.674 0 .43-.229.604-.474.725a.73.73 0 01.089.546c-.077.344-.392.611-.672.69.121.194.159.385.015.62-.185.295-.346.407-1.058.407H7.5c-.988 0-1.5-.546-1.5-1V7.665c0-1.23 1.467-2.275 1.467-3.13L7.361 3.47c-.005-.065.008-.224.058-.27.08-.079.301-.2.635-.2.218 0 .363.041.534.123.581.277.732.978.732 1.542 0 .271-.414 1.083-.47 1.364 0 0 .867-.192 1.879-.199 1.061-.006 1.749.19 1.749.842 0 .261-.219.523-.316.666zM3.6 7h.8a.6.6 0 01.6.6v3.8a.6.6 0 01-.6.6h-.8a.6.6 0 01-.6-.6V7.6a.6.6 0 01.6-.6z\\'/%3e%3c/g%3e%3c/svg%3e\" width=\"18\"></div></span></span></span><span class=\"np69z8it et4y5ytx j7g94pet b74d5cxt qw6c0r16 kb8x4rkr ed597pkb omcyoz59 goun2846 ccm00jje s44p3ltw mk2mc5f4 qxh1up0x qtyiw8t4 tpcyxxvw k0bpgpbk hm271qws rl04r1d5 l9j0dhe7 ov9facns tkr6xdv7\"><span class=\"t0qjyqq4 jos75b7i j6sty90h kv0toi1t q9uorilb hm271qws ov9facns\"><span class=\"tojvnm2t a6sixzi8 abs2jz4q a8s20v7p t1p8iaqh k5wvi7nf q3lfd5jv pk4s997a bipmatt0 cebpdrjk qowsmv63 owwhemhu dp1hu0rb dhp61c6y iyyx5f41\"><div aria-label=\"Сочувствую: 4 человека\" class=\"oajrlxb2 g5ia77u1 qu0x051f esr5mh6w e9989ue4 r7d6kgcz rq0escxv nhd2j8a9 nc684nl6 p7hjln8o kvgmc6g5 cxmmr5t8 oygrvhab hcukyx3x jb3vyjys rz4wbd8a qt6c0cv9 a8nywdso i1ao9s8h esuyzwwr f1sip0of lzcic4wl l9j0dhe7 abiwlrkh p8dawk7l\" role=\"button\" tabindex=\"0\"><img class=\"j1lvzwm4\" height=\"18\" src=\"data:image/svg+xml,%3csvg xmlns=\\'http://www.w3.org/2000/svg\\' xmlns:xlink=\\'http://www.w3.org/1999/xlink\\' viewBox=\\'0 0 16 16\\'%3e%3cdefs%3e%3clinearGradient id=\\'a\\' x1=\\'50%25\\' x2=\\'50%25\\' y1=\\'10.25%25\\' y2=\\'100%25\\'%3e%3cstop offset=\\'0%25\\' stop-color=\\'%23FEEA70\\'/%3e%3cstop offset=\\'100%25\\' stop-color=\\'%23F69B30\\'/%3e%3c/linearGradient%3e%3clinearGradient id=\\'d\\' x1=\\'50%25\\' x2=\\'50%25\\' y1=\\'0%25\\' y2=\\'100%25\\'%3e%3cstop offset=\\'0%25\\' stop-color=\\'%23472315\\'/%3e%3cstop offset=\\'100%25\\' stop-color=\\'%238B3A0E\\'/%3e%3c/linearGradient%3e%3clinearGradient id=\\'e\\' x1=\\'50%25\\' x2=\\'50%25\\' y1=\\'0%25\\' y2=\\'100%25\\'%3e%3cstop offset=\\'0%25\\' stop-color=\\'%23191A33\\'/%3e%3cstop offset=\\'87.162%25\\' stop-color=\\'%233B426A\\'/%3e%3c/linearGradient%3e%3clinearGradient id=\\'h\\' x1=\\'50%25\\' x2=\\'50%25\\' y1=\\'0%25\\' y2=\\'100%25\\'%3e%3cstop offset=\\'0%25\\' stop-color=\\'%23E78E0D\\'/%3e%3cstop offset=\\'100%25\\' stop-color=\\'%23CB6000\\'/%3e%3c/linearGradient%3e%3clinearGradient id=\\'i\\' x1=\\'50%25\\' x2=\\'50%25\\' y1=\\'81.899%25\\' y2=\\'17.94%25\\'%3e%3cstop offset=\\'0%25\\' stop-color=\\'%2335CAFC\\'/%3e%3cstop offset=\\'100%25\\' stop-color=\\'%23007EDB\\'/%3e%3c/linearGradient%3e%3clinearGradient id=\\'j\\' x1=\\'50%25\\' x2=\\'50%25\\' y1=\\'0%25\\' y2=\\'100%25\\'%3e%3cstop offset=\\'0%25\\' stop-color=\\'%236AE1FF\\' stop-opacity=\\'.287\\'/%3e%3cstop offset=\\'100%25\\' stop-color=\\'%23A8E3FF\\' stop-opacity=\\'.799\\'/%3e%3c/linearGradient%3e%3cfilter id=\\'c\\' width=\\'118.8%25\\' height=\\'118.8%25\\' x=\\'-9.4%25\\' y=\\'-9.4%25\\' filterUnits=\\'objectBoundingBox\\'%3e%3cfeGaussianBlur in=\\'SourceAlpha\\' result=\\'shadowBlurInner1\\' stdDeviation=\\'1\\'/%3e%3cfeOffset dy=\\'-1\\' in=\\'shadowBlurInner1\\' result=\\'shadowOffsetInner1\\'/%3e%3cfeComposite in=\\'shadowOffsetInner1\\' in2=\\'SourceAlpha\\' k2=\\'-1\\' k3=\\'1\\' operator=\\'arithmetic\\' result=\\'shadowInnerInner1\\'/%3e%3cfeColorMatrix in=\\'shadowInnerInner1\\' values=\\'0 0 0 0 0.921365489 0 0 0 0 0.460682745 0 0 0 0 0 0 0 0 0.35 0\\'/%3e%3c/filter%3e%3cfilter id=\\'g\\' width=\\'111.4%25\\' height=\\'137.5%25\\' x=\\'-5.7%25\\' y=\\'-18.8%25\\' filterUnits=\\'objectBoundingBox\\'%3e%3cfeGaussianBlur in=\\'SourceAlpha\\' result=\\'shadowBlurInner1\\' stdDeviation=\\'.5\\'/%3e%3cfeOffset in=\\'shadowBlurInner1\\' result=\\'shadowOffsetInner1\\'/%3e%3cfeComposite in=\\'shadowOffsetInner1\\' in2=\\'SourceAlpha\\' k2=\\'-1\\' k3=\\'1\\' operator=\\'arithmetic\\' result=\\'shadowInnerInner1\\'/%3e%3cfeColorMatrix in=\\'shadowInnerInner1\\' values=\\'0 0 0 0 0.0411226772 0 0 0 0 0.0430885485 0 0 0 0 0.0922353316 0 0 0 0.819684222 0\\'/%3e%3c/filter%3e%3cpath id=\\'b\\' d=\\'M16 8A8 8 0 110 8a8 8 0 0116 0\\'/%3e%3cpath id=\\'f\\' d=\\'M3.599 8.8c0-.81.509-1.466 1.134-1.466.627 0 1.134.656 1.134 1.466 0 .338-.089.65-.238.898a.492.492 0 01-.301.225c-.14.037-.353.077-.595.077-.243 0-.453-.04-.595-.077a.49.49 0 01-.3-.225 1.741 1.741 0 01-.239-.898zm6.534 0c0-.81.508-1.466 1.133-1.466.627 0 1.134.656 1.134 1.466 0 .338-.089.65-.238.898a.49.49 0 01-.301.225 2.371 2.371 0 01-1.189 0 .49.49 0 01-.301-.225 1.74 1.74 0 01-.238-.898z\\'/%3e%3c/defs%3e%3cg fill=\\'none\\'%3e%3cuse fill=\\'url(%23a)\\' xlink:href=\\'%23b\\'/%3e%3cuse fill=\\'black\\' filter=\\'url(%23c)\\' xlink:href=\\'%23b\\'/%3e%3cpath fill=\\'url(%23d)\\' d=\\'M5.333 12.765c0 .137.094.235.25.235.351 0 .836-.625 2.417-.625s2.067.625 2.417.625c.156 0 .25-.098.25-.235C10.667 12.368 9.828 11 8 11c-1.828 0-2.667 1.368-2.667 1.765\\'/%3e%3cuse fill=\\'url(%23e)\\' xlink:href=\\'%23f\\'/%3e%3cuse fill=\\'black\\' filter=\\'url(%23g)\\' xlink:href=\\'%23f\\'/%3e%3cpath fill=\\'%234E506A\\' d=\\'M4.616 7.986c.128.125.136.372.017.551-.12.178-.32.222-.448.096-.128-.125-.135-.372-.017-.55.12-.179.32-.222.448-.097zm6.489 0c.128.125.136.372.018.551-.12.178-.32.222-.45.096-.127-.125-.134-.372-.015-.55.119-.179.319-.222.447-.097z\\'/%3e%3cpath fill=\\'url(%23h)\\' d=\\'M4.157 5.153c.332-.153.596-.219.801-.219.277 0 .451.119.55.306.175.329.096.401-.198.459-1.106.224-2.217.942-2.699 1.39-.301.28-.589-.03-.436-.274.154-.244.774-1.105 1.982-1.662zm6.335.087c.099-.187.273-.306.55-.306.206 0 .469.066.801.219 1.208.557 1.828 1.418 1.981 1.662.153.244-.134.554-.435.274-.483-.448-1.593-1.166-2.7-1.39-.294-.058-.371-.13-.197-.459z\\'/%3e%3cpath fill=\\'url(%23i)\\' d=\\'M13.5 16c-.828 0-1.5-.748-1.5-1.671 0-.922.356-1.545.643-2.147.598-1.258.716-1.432.857-1.432.141 0 .259.174.857 1.432.287.602.643 1.225.643 2.147 0 .923-.672 1.671-1.5 1.671\\'/%3e%3cpath fill=\\'url(%23j)\\' d=\\'M13.5 13.606c-.328 0-.594-.296-.594-.66 0-.366.141-.613.255-.852.236-.498.283-.566.339-.566.056 0 .103.068.339.566.114.24.255.486.255.851s-.266.661-.594.661\\'/%3e%3c/g%3e%3c/svg%3e\" width=\"18\"></div></span></span></span><span class=\"np69z8it et4y5ytx j7g94pet b74d5cxt qw6c0r16 kb8x4rkr ed597pkb omcyoz59 goun2846 ccm00jje s44p3ltw mk2mc5f4 qxh1up0x qtyiw8t4 tpcyxxvw k0bpgpbk hm271qws rl04r1d5 l9j0dhe7 ov9facns du4w35lb\"><span class=\"t0qjyqq4 jos75b7i j6sty90h kv0toi1t q9uorilb hm271qws ov9facns\"><span class=\"tojvnm2t a6sixzi8 abs2jz4q a8s20v7p t1p8iaqh k5wvi7nf q3lfd5jv pk4s997a bipmatt0 cebpdrjk qowsmv63 owwhemhu dp1hu0rb dhp61c6y iyyx5f41\"><div aria-label=\"Ха-ха: 3 человека\" class=\"oajrlxb2 g5ia77u1 qu0x051f esr5mh6w e9989ue4 r7d6kgcz rq0escxv nhd2j8a9 nc684nl6 p7hjln8o kvgmc6g5 cxmmr5t8 oygrvhab hcukyx3x jb3vyjys rz4wbd8a qt6c0cv9 a8nywdso i1ao9s8h esuyzwwr f1sip0of lzcic4wl l9j0dhe7 abiwlrkh p8dawk7l\" role=\"button\" tabindex=\"0\"><img class=\"j1lvzwm4\" height=\"18\" src=\"data:image/svg+xml,%3csvg xmlns=\\'http://www.w3.org/2000/svg\\' xmlns:xlink=\\'http://www.w3.org/1999/xlink\\' viewBox=\\'0 0 16 16\\'%3e%3cdefs%3e%3clinearGradient id=\\'a\\' x1=\\'50%25\\' x2=\\'50%25\\' y1=\\'10.25%25\\' y2=\\'100%25\\'%3e%3cstop offset=\\'0%25\\' stop-color=\\'%23FEEA70\\'/%3e%3cstop offset=\\'100%25\\' stop-color=\\'%23F69B30\\'/%3e%3c/linearGradient%3e%3clinearGradient id=\\'d\\' x1=\\'50%25\\' x2=\\'50%25\\' y1=\\'0%25\\' y2=\\'100%25\\'%3e%3cstop offset=\\'0%25\\' stop-color=\\'%23472315\\'/%3e%3cstop offset=\\'100%25\\' stop-color=\\'%238B3A0E\\'/%3e%3c/linearGradient%3e%3clinearGradient id=\\'e\\' x1=\\'50%25\\' x2=\\'50%25\\' y1=\\'0%25\\' y2=\\'81.902%25\\'%3e%3cstop offset=\\'0%25\\' stop-color=\\'%23FC607C\\'/%3e%3cstop offset=\\'100%25\\' stop-color=\\'%23D91F3A\\'/%3e%3c/linearGradient%3e%3cfilter id=\\'c\\' width=\\'118.8%25\\' height=\\'118.8%25\\' x=\\'-9.4%25\\' y=\\'-9.4%25\\' filterUnits=\\'objectBoundingBox\\'%3e%3cfeGaussianBlur in=\\'SourceAlpha\\' result=\\'shadowBlurInner1\\' stdDeviation=\\'1\\'/%3e%3cfeOffset dy=\\'-1\\' in=\\'shadowBlurInner1\\' result=\\'shadowOffsetInner1\\'/%3e%3cfeComposite in=\\'shadowOffsetInner1\\' in2=\\'SourceAlpha\\' k2=\\'-1\\' k3=\\'1\\' operator=\\'arithmetic\\' result=\\'shadowInnerInner1\\'/%3e%3cfeColorMatrix in=\\'shadowInnerInner1\\' values=\\'0 0 0 0 0.921365489 0 0 0 0 0.460682745 0 0 0 0 0 0 0 0 0.35 0\\'/%3e%3c/filter%3e%3cpath id=\\'b\\' d=\\'M16 8A8 8 0 110 8a8 8 0 0116 0\\'/%3e%3c/defs%3e%3cg fill=\\'none\\'%3e%3cuse fill=\\'url(%23a)\\' xlink:href=\\'%23b\\'/%3e%3cuse fill=\\'black\\' filter=\\'url(%23c)\\' xlink:href=\\'%23b\\'/%3e%3cpath fill=\\'url(%23d)\\' d=\\'M3 8.008C3 10.023 4.006 14 8 14c3.993 0 5-3.977 5-5.992C13 7.849 11.39 7 8 7c-3.39 0-5 .849-5 1.008\\'/%3e%3cpath fill=\\'url(%23e)\\' d=\\'M4.541 12.5c.804.995 1.907 1.5 3.469 1.5 1.563 0 2.655-.505 3.459-1.5-.551-.588-1.599-1.5-3.459-1.5s-2.917.912-3.469 1.5\\'/%3e%3cpath fill=\\'%232A3755\\' d=\\'M6.213 4.144c.263.188.502.455.41.788-.071.254-.194.369-.422.371-.78.011-1.708.255-2.506.612-.065.029-.197.088-.332.085-.124-.003-.251-.058-.327-.237-.067-.157-.073-.388.276-.598.545-.33 1.257-.48 1.909-.604a7.077 7.077 0 00-1.315-.768c-.427-.194-.38-.457-.323-.6.127-.317.609-.196 1.078.026a9 9 0 011.552.925zm3.577 0a8.953 8.953 0 011.55-.925c.47-.222.95-.343 1.078-.026.057.143.104.406-.323.6a7.029 7.029 0 00-1.313.768c.65.123 1.363.274 1.907.604.349.21.342.44.276.598-.077.18-.203.234-.327.237-.135.003-.267-.056-.332-.085-.797-.357-1.725-.6-2.504-.612-.228-.002-.351-.117-.422-.37-.091-.333.147-.6.41-.788z\\'/%3e%3c/g%3e%3c/svg%3e\" width=\"18\"></div></span></span></span></span></span><div class=\"\"><span class=\"tojvnm2t a6sixzi8 abs2jz4q a8s20v7p t1p8iaqh k5wvi7nf q3lfd5jv pk4s997a bipmatt0 cebpdrjk qowsmv63 owwhemhu dp1hu0rb dhp61c6y iyyx5f41\"><div class=\"oajrlxb2 g5ia77u1 qu0x051f esr5mh6w e9989ue4 r7d6kgcz rq0escxv nhd2j8a9 a8c37x1j p7hjln8o kvgmc6g5 cxmmr5t8 oygrvhab hcukyx3x jb3vyjys rz4wbd8a qt6c0cv9 a8nywdso i1ao9s8h esuyzwwr f1sip0of lzcic4wl l9j0dhe7 abiwlrkh p8dawk7l gmql0nx0 ce9h75a5 ni8dbmo4 stjgntxs\" role=\"button\" tabindex=\"0\"><span aria-hidden=\"true\" class=\"bzsjyuwj ni8dbmo4 stjgntxs ltmttdrg gjzvkazv\"><span><span class=\"gpro0wi8 pcp91wgn\">17</span></span></span> <span class=\"gpro0wi8 cwj9ozl2 bzsjyuwj ja2t1vim\"><span><span class=\"pcp91wgn\">17</span></span></span></div></span></div></div><div class=\"bp9cbjyn j83agx80 pfnyh3mw p1ueia1e\"><div class=\"gtad4xkn\"><div aria-expanded=\"true\" class=\"oajrlxb2 g5ia77u1 qu0x051f esr5mh6w e9989ue4 r7d6kgcz rq0escxv nhd2j8a9 nc684nl6 p7hjln8o kvgmc6g5 cxmmr5t8 oygrvhab hcukyx3x jb3vyjys rz4wbd8a qt6c0cv9 a8nywdso i1ao9s8h esuyzwwr f1sip0of lzcic4wl l9j0dhe7 abiwlrkh gpro0wi8 dwo3fsh8 ow4ym5g4 auili1gw du4w35lb gmql0nx0\" id=\"jsc_c_1c\" role=\"button\" tabindex=\"0\"><span class=\"d2edcug0 hpfvmrgz qv66sw1b c1et5uql lr9zc1uh a8c37x1j keod5gw0 nxhoafnm aigsh9s9 d3f4x2em fe6kdd0r mau55g9w c8b282yb iv3no6db jq4qci2q a3bd9o3v knj5qynh m9osqain\" dir=\"auto\">Комментарии: 2</span></div></div><div class=\"gtad4xkn\"><span class=\"tojvnm2t a6sixzi8 abs2jz4q a8s20v7p t1p8iaqh k5wvi7nf q3lfd5jv pk4s997a bipmatt0 cebpdrjk qowsmv63 owwhemhu dp1hu0rb dhp61c6y iyyx5f41\"><div class=\"oajrlxb2 g5ia77u1 qu0x051f esr5mh6w e9989ue4 r7d6kgcz rq0escxv nhd2j8a9 nc684nl6 p7hjln8o kvgmc6g5 cxmmr5t8 oygrvhab hcukyx3x jb3vyjys rz4wbd8a qt6c0cv9 a8nywdso i1ao9s8h esuyzwwr f1sip0of lzcic4wl l9j0dhe7 abiwlrkh gpro0wi8 dwo3fsh8 ow4ym5g4 auili1gw du4w35lb gmql0nx0\" role=\"button\" tabindex=\"0\"><span class=\"d2edcug0 hpfvmrgz qv66sw1b c1et5uql lr9zc1uh a8c37x1j keod5gw0 nxhoafnm aigsh9s9 d3f4x2em fe6kdd0r mau55g9w c8b282yb iv3no6db jq4qci2q a3bd9o3v knj5qynh m9osqain\" dir=\"auto\">Поделились: 1</span></div></span></div></div></div></div><div class=\"ozuftl9m tvfksri0\"><div class=\"rq0escxv l9j0dhe7 du4w35lb j83agx80 pfnyh3mw i1fnvgqd gs1a9yip owycx6da btwxx1t3 ph5uu5jm b3onmgus e5nlhep0 ecm0bbzt nkwizq5d roh60bw9 mysgfdmx hddg9phg\"><div class=\"rq0escxv l9j0dhe7 du4w35lb j83agx80 cbu4d94t g5gj957u d2edcug0 hpfvmrgz rj1gh0hx buofh1pr n8tt0mok hyh9befq iuny7tx3 ipjc6fyt\"><div aria-label=\"Нравится\" class=\"oajrlxb2 gs1a9yip g5ia77u1 mtkw9kbi tlpljxtp qensuy8j ppp5ayq2 goun2846 ccm00jje s44p3ltw mk2mc5f4 rt8b4zig n8ej3o3l agehan2d sk4xxmp2 rq0escxv nhd2j8a9 pq6dq46d mg4g778l btwxx1t3 pfnyh3mw p7hjln8o kvgmc6g5 cxmmr5t8 oygrvhab hcukyx3x tgvbjcpo hpfvmrgz jb3vyjys rz4wbd8a qt6c0cv9 a8nywdso l9j0dhe7 i1ao9s8h esuyzwwr f1sip0of du4w35lb lzcic4wl abiwlrkh p8dawk7l\" role=\"button\" tabindex=\"0\"><div class=\"rq0escxv l9j0dhe7 du4w35lb j83agx80 g5gj957u rj1gh0hx buofh1pr hpfvmrgz taijpn5t bp9cbjyn owycx6da btwxx1t3 d1544ag0 tw6a2znq jb3vyjys dlv3wnog rl04r1d5 mysgfdmx hddg9phg qu8okrzs g0qnabr5\"><div class=\"rq0escxv l9j0dhe7 du4w35lb j83agx80 cbu4d94t pfnyh3mw d2edcug0 hpfvmrgz ph5uu5jm b3onmgus iuny7tx3 ipjc6fyt\"><span class=\" pq6dq46d\"><i class=\"hu5pjgll m6k467ps\" style=\"background-image: url(&quot;https://static.xx.fbcdn.net/rsrc.php/v3/yl/r/7XZjj2jF_kc.png&quot;); background-position: 0px -948px; background-size: auto; width: 18px; height: 18px; background-repeat: no-repeat; display: inline-block;\"></i></span></div><div class=\"rq0escxv l9j0dhe7 du4w35lb j83agx80 cbu4d94t pfnyh3mw d2edcug0 hpfvmrgz ph5uu5jm b3onmgus iuny7tx3 ipjc6fyt\"><span class=\"d2edcug0 hpfvmrgz qv66sw1b c1et5uql lr9zc1uh a8c37x1j keod5gw0 nxhoafnm aigsh9s9 d3f4x2em fe6kdd0r mau55g9w c8b282yb iv3no6db jq4qci2q a3bd9o3v lrazzd5p m9osqain\" dir=\"auto\"><span>Нравится</span></span></div></div><div class=\"n00je7tq arfg74bv qs9ysxi8 k77z8yql i09qtzwb n7fi1qx3 b5wmifdl hzruof5a pmk7jnqg j9ispegn kr520xx4 c5ndavph art1omkt ot9fgl3s rnr61an3\" data-visualcompletion=\"ignore\" style=\"border-radius: 4px;\"></div></div><div aria-label=\"Отреагировать\" class=\"oajrlxb2 gs1a9yip g5ia77u1 mtkw9kbi tlpljxtp qensuy8j ppp5ayq2 goun2846 ccm00jje s44p3ltw mk2mc5f4 rt8b4zig n8ej3o3l agehan2d sk4xxmp2 rq0escxv nhd2j8a9 pq6dq46d mg4g778l btwxx1t3 pfnyh3mw p7hjln8o kvgmc6g5 cxmmr5t8 oygrvhab hcukyx3x tgvbjcpo hpfvmrgz b4ylihy8 rz4wbd8a b40mr0ww a8nywdso pmk7jnqg i1ao9s8h esuyzwwr f1sip0of du4w35lb lzcic4wl abiwlrkh p8dawk7l pphx12oy hmalg0qr q45zohi1 g0aa4cga\" role=\"button\" tabindex=\"0\"><i class=\"hu5pjgll m6k467ps\" style=\"background-image: url(&quot;https://static.xx.fbcdn.net/rsrc.php/v3/yl/r/7XZjj2jF_kc.png&quot;); background-position: 0px -1137px; background-size: auto; width: 16px; height: 16px; background-repeat: no-repeat; display: inline-block;\"></i><div class=\"n00je7tq arfg74bv qs9ysxi8 k77z8yql i09qtzwb n7fi1qx3 b5wmifdl hzruof5a pmk7jnqg j9ispegn kr520xx4 c5ndavph art1omkt ot9fgl3s\" data-visualcompletion=\"ignore\"></div></div></div><div class=\"rq0escxv l9j0dhe7 du4w35lb j83agx80 cbu4d94t g5gj957u d2edcug0 hpfvmrgz rj1gh0hx buofh1pr n8tt0mok hyh9befq iuny7tx3 ipjc6fyt\"><div aria-label=\"Оставьте комментарий\" class=\"oajrlxb2 gs1a9yip g5ia77u1 mtkw9kbi tlpljxtp qensuy8j ppp5ayq2 goun2846 ccm00jje s44p3ltw mk2mc5f4 rt8b4zig n8ej3o3l agehan2d sk4xxmp2 rq0escxv nhd2j8a9 pq6dq46d mg4g778l btwxx1t3 pfnyh3mw p7hjln8o kvgmc6g5 cxmmr5t8 oygrvhab hcukyx3x tgvbjcpo hpfvmrgz jb3vyjys rz4wbd8a qt6c0cv9 a8nywdso l9j0dhe7 i1ao9s8h esuyzwwr f1sip0of du4w35lb lzcic4wl abiwlrkh p8dawk7l\" role=\"button\" tabindex=\"0\"><div class=\"rq0escxv l9j0dhe7 du4w35lb j83agx80 g5gj957u rj1gh0hx buofh1pr hpfvmrgz taijpn5t bp9cbjyn owycx6da btwxx1t3 d1544ag0 tw6a2znq jb3vyjys dlv3wnog rl04r1d5 mysgfdmx hddg9phg qu8okrzs g0qnabr5\"><div class=\"rq0escxv l9j0dhe7 du4w35lb j83agx80 cbu4d94t pfnyh3mw d2edcug0 hpfvmrgz ph5uu5jm b3onmgus iuny7tx3 ipjc6fyt\"><i class=\"hu5pjgll m6k467ps\" style=\"background-image: url(&quot;https://static.xx.fbcdn.net/rsrc.php/v3/yx/r/NCBgFjdyRyw.png&quot;); background-position: 0px -190px; background-size: auto; width: 18px; height: 18px; background-repeat: no-repeat; display: inline-block;\"></i></div><div class=\"rq0escxv l9j0dhe7 du4w35lb j83agx80 cbu4d94t pfnyh3mw d2edcug0 hpfvmrgz ph5uu5jm b3onmgus iuny7tx3 ipjc6fyt\"><span class=\"d2edcug0 hpfvmrgz qv66sw1b c1et5uql lr9zc1uh a8c37x1j keod5gw0 nxhoafnm aigsh9s9 d3f4x2em fe6kdd0r mau55g9w c8b282yb iv3no6db jq4qci2q a3bd9o3v lrazzd5p m9osqain\" dir=\"auto\">Комментировать</span></div></div><div class=\"n00je7tq arfg74bv qs9ysxi8 k77z8yql i09qtzwb n7fi1qx3 b5wmifdl hzruof5a pmk7jnqg j9ispegn kr520xx4 c5ndavph art1omkt ot9fgl3s rnr61an3\" data-visualcompletion=\"ignore\" style=\"border-radius: 4px;\"></div></div></div><div class=\"rq0escxv l9j0dhe7 du4w35lb j83agx80 cbu4d94t g5gj957u d2edcug0 hpfvmrgz rj1gh0hx buofh1pr n8tt0mok hyh9befq iuny7tx3 ipjc6fyt\"><div aria-label=\"Отправьте это друзьям или опубликуйте в своей Хронике.\" class=\"oajrlxb2 gs1a9yip g5ia77u1 mtkw9kbi tlpljxtp qensuy8j ppp5ayq2 goun2846 ccm00jje s44p3ltw mk2mc5f4 rt8b4zig n8ej3o3l agehan2d sk4xxmp2 rq0escxv nhd2j8a9 pq6dq46d mg4g778l btwxx1t3 pfnyh3mw p7hjln8o kvgmc6g5 cxmmr5t8 oygrvhab hcukyx3x tgvbjcpo hpfvmrgz jb3vyjys rz4wbd8a qt6c0cv9 a8nywdso l9j0dhe7 i1ao9s8h esuyzwwr f1sip0of du4w35lb lzcic4wl abiwlrkh p8dawk7l\" role=\"button\" tabindex=\"0\"><div class=\"rq0escxv l9j0dhe7 du4w35lb j83agx80 g5gj957u rj1gh0hx buofh1pr hpfvmrgz taijpn5t bp9cbjyn owycx6da btwxx1t3 d1544ag0 tw6a2znq jb3vyjys dlv3wnog rl04r1d5 mysgfdmx hddg9phg qu8okrzs g0qnabr5\"><div class=\"rq0escxv l9j0dhe7 du4w35lb j83agx80 cbu4d94t pfnyh3mw d2edcug0 hpfvmrgz ph5uu5jm b3onmgus iuny7tx3 ipjc6fyt\"><i class=\"hu5pjgll m6k467ps\" style=\"background-image: url(&quot;https://static.xx.fbcdn.net/rsrc.php/v3/yx/r/NCBgFjdyRyw.png&quot;); background-position: -38px -190px; background-size: auto; width: 18px; height: 18px; background-repeat: no-repeat; display: inline-block;\"></i></div><div class=\"rq0escxv l9j0dhe7 du4w35lb j83agx80 cbu4d94t pfnyh3mw d2edcug0 hpfvmrgz ph5uu5jm b3onmgus iuny7tx3 ipjc6fyt\"><span class=\"d2edcug0 hpfvmrgz qv66sw1b c1et5uql lr9zc1uh a8c37x1j keod5gw0 nxhoafnm aigsh9s9 d3f4x2em fe6kdd0r mau55g9w c8b282yb iv3no6db jq4qci2q a3bd9o3v lrazzd5p m9osqain\" dir=\"auto\">Поделиться</span></div></div><div class=\"n00je7tq arfg74bv qs9ysxi8 k77z8yql i09qtzwb n7fi1qx3 b5wmifdl hzruof5a pmk7jnqg j9ispegn kr520xx4 c5ndavph art1omkt ot9fgl3s rnr61an3\" data-visualcompletion=\"ignore\" style=\"border-radius: 4px;\"></div></div></div></div></div></div></div><div class=\"cwj9ozl2 tvmbv18p\"><h3 class=\"gmql0nx0 l94mrbxd p1ri9a11 lzcic4wl q45zohi1 ema1e40h ay7djpcl pfx3uekm pmk7jnqg rfua0xdk\" dir=\"auto\">Комментарии: 2</h3><div class=\"l6v480f0 kvgmc6g5 wkznzc2l oygrvhab dhix69tm ecm0bbzt\"></div><div class=\"j83agx80 bkfpd7mw jb3vyjys hv4rvrfc qt6c0cv9 dati1w0a l9j0dhe7\"><div class=\"h3fqq6jp hcukyx3x oygrvhab cxmmr5t8 kvgmc6g5 j83agx80 bp9cbjyn\"><div class=\"oajrlxb2 g5ia77u1 qu0x051f esr5mh6w e9989ue4 r7d6kgcz rq0escxv nhd2j8a9 nc684nl6 p7hjln8o kvgmc6g5 cxmmr5t8 oygrvhab hcukyx3x jb3vyjys rz4wbd8a qt6c0cv9 a8nywdso i1ao9s8h esuyzwwr f1sip0of lzcic4wl l9j0dhe7 abiwlrkh p8dawk7l\" role=\"button\" tabindex=\"0\"><span class=\"d2edcug0 hpfvmrgz qv66sw1b c1et5uql lr9zc1uh a8c37x1j keod5gw0 nxhoafnm aigsh9s9 d3f4x2em fe6kdd0r mau55g9w c8b282yb iv3no6db jq4qci2q a3bd9o3v lrazzd5p m9osqain\" dir=\"auto\">Самые актуальные<div class=\"rq0escxv l9j0dhe7 du4w35lb nc684nl6 g0qnabr5\"><span class=\"kvj6zsgd\">\\ufeff</span><div class=\"rq0escxv l9j0dhe7 du4w35lb bp9cbjyn pq6dq46d sf5mxxl7\"><i class=\"hu5pjgll m6k467ps\" style=\"background-image: url(&quot;https://static.xx.fbcdn.net/rsrc.php/v3/yl/r/7XZjj2jF_kc.png&quot;); background-position: 0px -1137px; background-size: auto; width: 16px; height: 16px; background-repeat: no-repeat; display: inline-block;\"></i></div></div></span></div></div></div><div class=\"ecm0bbzt hv4rvrfc e5nlhep0 dati1w0a j83agx80 btwxx1t3 lzcic4wl\"><div class=\"nqmvxvec s45kfl79 emlxlaya bkmhp75w spb7xbtv a8c37x1j fv0vnmcu rs0gx3tq l9j0dhe7\"><div aria-hidden=\"true\" class=\"oajrlxb2 gs1a9yip g5ia77u1 mtkw9kbi tlpljxtp qensuy8j ppp5ayq2 goun2846 ccm00jje s44p3ltw mk2mc5f4 rt8b4zig n8ej3o3l agehan2d sk4xxmp2 rq0escxv nhd2j8a9 pq6dq46d mg4g778l btwxx1t3 pfnyh3mw p7hjln8o kvgmc6g5 cxmmr5t8 oygrvhab hcukyx3x tgvbjcpo hpfvmrgz jb3vyjys rz4wbd8a qt6c0cv9 a8nywdso l9j0dhe7 i1ao9s8h esuyzwwr f1sip0of du4w35lb lzcic4wl abiwlrkh p8dawk7l\" role=\"button\" tabindex=\"-1\"><div class=\"q9uorilb l9j0dhe7 pzggbiyp du4w35lb\"><svg aria-hidden=\"true\" class=\"pzggbiyp\" data-visualcompletion=\"ignore-dynamic\" role=\"none\" style=\"height: 32px; width: 32px;\"><mask id=\"jsc_c_1g\"><circle cx=\"16\" cy=\"16\" fill=\"white\" r=\"16\"></circle></mask><g mask=\"url(#jsc_c_1g)\"><image x=\"0\" y=\"0\" height=\"100%\" preserveAspectRatio=\"xMidYMid slice\" width=\"100%\" xlink:href=\"https://scontent.fhel6-1.fna.fbcdn.net/v/t1.30497-1/cp0/c9.0.32.32a/p32x32/84241059_189132118950875_4138507100605120512_n.jpg?_nc_cat=1&amp;ccb=1-3&amp;_nc_sid=7206a8&amp;_nc_ohc=z445BwYoMkwAX-yZx5g&amp;_nc_ht=scontent.fhel6-1.fna&amp;tp=27&amp;oh=eca4d314e4411b748ae8ab5b30783b3d&amp;oe=60970063\" style=\"height: 32px; width: 32px;\"></image><circle class=\"mlqo0dh0 georvekb s6kb5r3f\" cx=\"16\" cy=\"16\" r=\"16\"></circle></g></svg></div><div class=\"s45kfl79 emlxlaya bkmhp75w spb7xbtv i09qtzwb n7fi1qx3 b5wmifdl hzruof5a pmk7jnqg j9ispegn kr520xx4 c5ndavph art1omkt ot9fgl3s rnr61an3\" data-visualcompletion=\"ignore\"></div></div></div><div class=\"g3eujd1d ni8dbmo4 stjgntxs rz4wbd8a\"><div class=\"buofh1pr\"><div class=\"buofh1pr\"><div class=\"buofh1pr\"><form class=\"o6r2urh6 l9j0dhe7 b3i9ofy5 e72ty7fz qlfml3jp inkptoze qmr60zad rt8b4zig n8ej3o3l agehan2d sk4xxmp2 j83agx80 bkfpd7mw\" role=\"presentation\"><div class=\"m9osqain jq4qci2q b1v8xokw ltmttdrg g0qnabr5 r2ndix9n o6r2urh6 mg4g778l buofh1pr g5gj957u ni8dbmo4 stjgntxs cxgpxx05 d1544ag0 sj5x9vvc tw6a2znq\" data-visualcompletion=\"ignore\"><div class=\"_5rp7\"><div class=\"_1p1t\"><div class=\"_1p1v ni8dbmo4 stjgntxs ltmttdrg mshkm1ct\" id=\"placeholder-1tcfh\" style=\"white-space: pre-wrap;\">Напишите комментарий…</div></div><div class=\"_5rpb\"><div aria-label=\"Напишите комментарий\" class=\"notranslate _5rpu\" contenteditable=\"true\" role=\"textbox\" spellcheck=\"true\" style=\"outline: none; user-select: text; white-space: pre-wrap; overflow-wrap: break-word;\"><div data-contents=\"true\"><div class=\"\" data-block=\"true\" data-editor=\"1tcfh\" data-offset-key=\"f0qu5-0-0\"><div data-offset-key=\"f0qu5-0-0\" class=\"_1mf _1mj\"><span data-offset-key=\"f0qu5-0-0\"><br data-text=\"true\"></span></div></div></div></div></div></div></div><ul class=\"fop5sh7t cgat1ltu tv7at329 j83agx80 c4hnarmi bp9cbjyn\"><li class=\"ggphbty4 fv0vnmcu q9uorilb\"><span class=\"tojvnm2t a6sixzi8 abs2jz4q a8s20v7p t1p8iaqh k5wvi7nf q3lfd5jv pk4s997a bipmatt0 cebpdrjk qowsmv63 owwhemhu dp1hu0rb dhp61c6y iyyx5f41\"><div aria-label=\"Вставить смайлик\" class=\"oajrlxb2 gs1a9yip g5ia77u1 mtkw9kbi tlpljxtp qensuy8j ppp5ayq2 goun2846 ccm00jje s44p3ltw mk2mc5f4 rt8b4zig n8ej3o3l agehan2d sk4xxmp2 rq0escxv nhd2j8a9 pq6dq46d mg4g778l btwxx1t3 pfnyh3mw p7hjln8o kvgmc6g5 cxmmr5t8 oygrvhab hcukyx3x tgvbjcpo hpfvmrgz jb3vyjys rz4wbd8a qt6c0cv9 a8nywdso l9j0dhe7 i1ao9s8h esuyzwwr f1sip0of du4w35lb lzcic4wl abiwlrkh p8dawk7l dwo3fsh8 pzggbiyp pkj7ub1o bqnlxs5p kkg9azqs c24pa1uk ln9iyx3p fe6kdd0r ar1oviwq l10q8mi9 sq40qgkc s8quxz6p pdjglbur\" role=\"button\" tabindex=\"0\"><i class=\"hu5pjgll m6k467ps\" style=\"background-image: url(&quot;https://static.xx.fbcdn.net/rsrc.php/v3/yx/r/NCBgFjdyRyw.png&quot;); background-position: -51px -226px; background-size: auto; width: 16px; height: 16px; background-repeat: no-repeat; display: inline-block;\"></i><div class=\"s45kfl79 emlxlaya bkmhp75w spb7xbtv i09qtzwb n7fi1qx3 b5wmifdl hzruof5a pmk7jnqg j9ispegn kr520xx4 c5ndavph art1omkt ot9fgl3s rnr61an3\" data-visualcompletion=\"ignore\" style=\"inset: -8px;\"></div></div></span></li><li class=\"ggphbty4 fv0vnmcu q9uorilb\"><span class=\"tojvnm2t a6sixzi8 abs2jz4q a8s20v7p t1p8iaqh k5wvi7nf q3lfd5jv pk4s997a bipmatt0 cebpdrjk qowsmv63 owwhemhu dp1hu0rb dhp61c6y iyyx5f41\"><div aria-label=\"Комментарий с файлом GIF\" class=\"oajrlxb2 gs1a9yip g5ia77u1 mtkw9kbi tlpljxtp qensuy8j ppp5ayq2 goun2846 ccm00jje s44p3ltw mk2mc5f4 rt8b4zig n8ej3o3l agehan2d sk4xxmp2 rq0escxv nhd2j8a9 pq6dq46d mg4g778l btwxx1t3 pfnyh3mw p7hjln8o kvgmc6g5 cxmmr5t8 oygrvhab hcukyx3x tgvbjcpo hpfvmrgz jb3vyjys rz4wbd8a qt6c0cv9 a8nywdso l9j0dhe7 i1ao9s8h esuyzwwr f1sip0of du4w35lb lzcic4wl abiwlrkh p8dawk7l dwo3fsh8 pzggbiyp pkj7ub1o bqnlxs5p kkg9azqs c24pa1uk ln9iyx3p fe6kdd0r ar1oviwq l10q8mi9 sq40qgkc s8quxz6p pdjglbur\" role=\"button\" tabindex=\"0\"><i class=\"hu5pjgll m6k467ps\" style=\"background-image: url(&quot;https://static.xx.fbcdn.net/rsrc.php/v3/yx/r/NCBgFjdyRyw.png&quot;); background-position: 0px -243px; background-size: auto; width: 16px; height: 16px; background-repeat: no-repeat; display: inline-block;\"></i><div class=\"s45kfl79 emlxlaya bkmhp75w spb7xbtv i09qtzwb n7fi1qx3 b5wmifdl hzruof5a pmk7jnqg j9ispegn kr520xx4 c5ndavph art1omkt ot9fgl3s\" data-visualcompletion=\"ignore\" style=\"inset: -8px;\"></div></div></span></li><li class=\"ggphbty4 fv0vnmcu q9uorilb\"><span class=\"tojvnm2t a6sixzi8 abs2jz4q a8s20v7p t1p8iaqh k5wvi7nf q3lfd5jv pk4s997a bipmatt0 cebpdrjk qowsmv63 owwhemhu dp1hu0rb dhp61c6y iyyx5f41\"><div aria-label=\"Комментарий с наклейкой\" class=\"oajrlxb2 gs1a9yip g5ia77u1 mtkw9kbi tlpljxtp qensuy8j ppp5ayq2 goun2846 ccm00jje s44p3ltw mk2mc5f4 rt8b4zig n8ej3o3l agehan2d sk4xxmp2 rq0escxv nhd2j8a9 pq6dq46d mg4g778l btwxx1t3 pfnyh3mw p7hjln8o kvgmc6g5 cxmmr5t8 oygrvhab hcukyx3x tgvbjcpo hpfvmrgz jb3vyjys rz4wbd8a qt6c0cv9 a8nywdso l9j0dhe7 i1ao9s8h esuyzwwr f1sip0of du4w35lb lzcic4wl abiwlrkh p8dawk7l dwo3fsh8 pzggbiyp pkj7ub1o bqnlxs5p kkg9azqs c24pa1uk ln9iyx3p fe6kdd0r ar1oviwq l10q8mi9 sq40qgkc s8quxz6p pdjglbur\" role=\"button\" tabindex=\"0\"><i class=\"hu5pjgll m6k467ps\" style=\"background-image: url(&quot;https://static.xx.fbcdn.net/rsrc.php/v3/yx/r/NCBgFjdyRyw.png&quot;); background-position: 0px -260px; background-size: auto; width: 16px; height: 16px; background-repeat: no-repeat; display: inline-block;\"></i><div class=\"s45kfl79 emlxlaya bkmhp75w spb7xbtv i09qtzwb n7fi1qx3 b5wmifdl hzruof5a pmk7jnqg j9ispegn kr520xx4 c5ndavph art1omkt ot9fgl3s\" data-visualcompletion=\"ignore\" style=\"inset: -8px;\"></div></div></span></li></ul></form></div></div></div><div class=\"rs4xwbwe q4pta889\"><div class=\"_6g0t fcg fss\">Нажмите ENTER, чтобы отправить комментарий.</div></div></div></div><ul><li><div class=\"ni8dbmo4 stjgntxs l9j0dhe7\"><div><div aria-label=\"Комментарий Леонид Каневский 21 час назад\" role=\"article\" tabindex=\"-1\" class=\"l9j0dhe7 ecm0bbzt rz4wbd8a qt6c0cv9 dati1w0a j83agx80 btwxx1t3 lzcic4wl\"><div class=\"nqmvxvec s45kfl79 emlxlaya bkmhp75w spb7xbtv a8c37x1j fv0vnmcu rs0gx3tq l9j0dhe7\"><div class=\"nc684nl6\"><a aria-hidden=\"true\" class=\"oajrlxb2 gs1a9yip g5ia77u1 mtkw9kbi tlpljxtp qensuy8j ppp5ayq2 goun2846 ccm00jje s44p3ltw mk2mc5f4 rt8b4zig n8ej3o3l agehan2d sk4xxmp2 rq0escxv nhd2j8a9 q9uorilb mg4g778l btwxx1t3 pfnyh3mw p7hjln8o kvgmc6g5 cxmmr5t8 oygrvhab hcukyx3x tgvbjcpo hpfvmrgz jb3vyjys rz4wbd8a qt6c0cv9 a8nywdso l9j0dhe7 i1ao9s8h esuyzwwr f1sip0of du4w35lb lzcic4wl abiwlrkh p8dawk7l\" href=\"https://www.facebook.com/profile.php?id=100006044805145&amp;comment_id=Y29tbWVudDoxOTYzNjY2MjU3MTIxNDUzXzE5NjM2ODE2NzA0NTMyNDU%3D&amp;__cft__[0]=AZWgRp8yGuxab7xBmkaoHAkvE6SQd6_-7WVpzAw-WWJLmjnOKkQNvHBlcUJQvo3qaDwjB1aFjnCaB7Bq-ubBhcCLvO-gvPdBMLyg8xWsSsqAsmYHmXM3mcPwJ1a9r0lzgf4wDBDETFp64rQq2htclwtn&amp;__tn__=R]-R\" role=\"link\" tabindex=\"-1\"><div class=\"q9uorilb l9j0dhe7 pzggbiyp du4w35lb\"><svg aria-hidden=\"true\" class=\"pzggbiyp\" data-visualcompletion=\"ignore-dynamic\" role=\"none\" style=\"height: 32px; width: 32px;\"><mask id=\"jsc_c_1h\"><circle cx=\"16\" cy=\"16\" fill=\"white\" r=\"16\"></circle></mask><g mask=\"url(#jsc_c_1h)\"><image x=\"0\" y=\"0\" height=\"100%\" preserveAspectRatio=\"xMidYMid slice\" width=\"100%\" xlink:href=\"https://scontent-hel3-1.xx.fbcdn.net/v/t1.6435-1/cp0/p32x32/84464353_2538637406347728_1901156012170149888_n.jpg?_nc_cat=105&amp;ccb=1-3&amp;_nc_sid=7206a8&amp;_nc_ohc=YDK34lrTalIAX8_dHD4&amp;_nc_ht=scontent-hel3-1.xx&amp;tp=27&amp;oh=5bd509b8425ad7a06e183a6f403d1e2f&amp;oe=6097C88D\" style=\"height: 32px; width: 32px;\"></image><circle class=\"mlqo0dh0 georvekb s6kb5r3f\" cx=\"16\" cy=\"16\" r=\"16\"></circle></g></svg></div><div class=\"s45kfl79 emlxlaya bkmhp75w spb7xbtv i09qtzwb n7fi1qx3 b5wmifdl hzruof5a pmk7jnqg j9ispegn kr520xx4 c5ndavph art1omkt ot9fgl3s rnr61an3\" data-visualcompletion=\"ignore\"></div></a></div></div><div class=\"g3eujd1d ni8dbmo4 stjgntxs hv4rvrfc\"><div><div class=\"q9uorilb bvz0fpym c1et5uql sf5mxxl7\"><div class=\"_680y\"><div class=\"_6cuy\"><div class=\"b3i9ofy5 e72ty7fz qlfml3jp inkptoze qmr60zad rq0escxv oo9gr5id q9uorilb kvgmc6g5 cxmmr5t8 oygrvhab hcukyx3x d2edcug0 jm1wdb64 l9j0dhe7 l3itjdph qv66sw1b\"><div class=\"tw6a2znq sj5x9vvc d1544ag0 cxgpxx05\"><div class=\"nc684nl6\"><a class=\"oajrlxb2 g5ia77u1 qu0x051f esr5mh6w e9989ue4 r7d6kgcz rq0escxv nhd2j8a9 nc684nl6 p7hjln8o kvgmc6g5 cxmmr5t8 oygrvhab hcukyx3x jb3vyjys rz4wbd8a qt6c0cv9 a8nywdso i1ao9s8h esuyzwwr f1sip0of lzcic4wl gmql0nx0 gpro0wi8\" href=\"https://www.facebook.com/profile.php?id=100006044805145&amp;comment_id=Y29tbWVudDoxOTYzNjY2MjU3MTIxNDUzXzE5NjM2ODE2NzA0NTMyNDU%3D&amp;__cft__[0]=AZWgRp8yGuxab7xBmkaoHAkvE6SQd6_-7WVpzAw-WWJLmjnOKkQNvHBlcUJQvo3qaDwjB1aFjnCaB7Bq-ubBhcCLvO-gvPdBMLyg8xWsSsqAsmYHmXM3mcPwJ1a9r0lzgf4wDBDETFp64rQq2htclwtn&amp;__tn__=R]-R\" role=\"link\" tabindex=\"0\"><span class=\"pq6dq46d\"><span class=\"d2edcug0 hpfvmrgz qv66sw1b c1et5uql lr9zc1uh a8c37x1j keod5gw0 nxhoafnm aigsh9s9 d9wwppkn fe6kdd0r mau55g9w c8b282yb mdeji52x e9vueds3 j5wam9gi lrazzd5p oo9gr5id\" dir=\"auto\">Леонид Каневский</span></span></a></div><div class=\"ecm0bbzt e5nlhep0 a8c37x1j\"><span class=\"d2edcug0 hpfvmrgz qv66sw1b c1et5uql lr9zc1uh a8c37x1j keod5gw0 nxhoafnm aigsh9s9 d3f4x2em fe6kdd0r mau55g9w c8b282yb iv3no6db jq4qci2q a3bd9o3v knj5qynh oo9gr5id\" dir=\"auto\" lang=\"ru_RU\"><div class=\"kvgmc6g5 cxmmr5t8 oygrvhab hcukyx3x c1et5uql\"><div dir=\"auto\" style=\"text-align: start;\">А многим другим - нет. А ещё многие другие с трудом представляют себе кто ваще эти самые уйгуры и что с ними происходит.</div></div></span></div></div></div></div></div></div><div class=\"q9uorilb sf5mxxl7 pgctjfs5\"><div class=\"no6464jc b5wmifdl\"><span class=\"tojvnm2t a6sixzi8 abs2jz4q a8s20v7p t1p8iaqh k5wvi7nf q3lfd5jv pk4s997a bipmatt0 cebpdrjk qowsmv63 owwhemhu dp1hu0rb dhp61c6y iyyx5f41\"><div aria-expanded=\"false\" aria-haspopup=\"menu\" aria-label=\"Скрыть комментарий или пожаловаться на него\" class=\"oajrlxb2 gs1a9yip g5ia77u1 mtkw9kbi tlpljxtp qensuy8j ppp5ayq2 goun2846 ccm00jje s44p3ltw mk2mc5f4 rt8b4zig n8ej3o3l agehan2d sk4xxmp2 rq0escxv nhd2j8a9 pq6dq46d mg4g778l btwxx1t3 pfnyh3mw p7hjln8o kvgmc6g5 cxmmr5t8 oygrvhab hcukyx3x tgvbjcpo hpfvmrgz jb3vyjys rz4wbd8a qt6c0cv9 a8nywdso l9j0dhe7 i1ao9s8h esuyzwwr f1sip0of du4w35lb lzcic4wl abiwlrkh p8dawk7l dwo3fsh8 pzggbiyp pkj7ub1o bqnlxs5p kkg9azqs c24pa1uk ln9iyx3p fe6kdd0r ar1oviwq l10q8mi9 sq40qgkc s8quxz6p pdjglbur\" role=\"button\" tabindex=\"0\"><i class=\"hu5pjgll m6k467ps\" style=\"background-image: url(&quot;https://static.xx.fbcdn.net/rsrc.php/v3/yl/r/7XZjj2jF_kc.png&quot;); background-position: 0px -1086px; background-size: auto; width: 16px; height: 16px; background-repeat: no-repeat; display: inline-block;\"></i><div class=\"s45kfl79 emlxlaya bkmhp75w spb7xbtv i09qtzwb n7fi1qx3 b5wmifdl hzruof5a pmk7jnqg j9ispegn kr520xx4 c5ndavph art1omkt ot9fgl3s rnr61an3\" data-visualcompletion=\"ignore\" style=\"inset: -8px;\"></div></div></span></div></div></div><ul class=\"_6coi oygrvhab ozuftl9m l66bhrea linoseic\"><li class=\"_6coj\"><span aria-hidden=\"true\" class=\"_6cok\">&nbsp;·&nbsp;</span><span class=\"q9uorilb\"><div class=\"l9j0dhe7 q9uorilb\"><span><div aria-label=\"Нравится\" class=\"oajrlxb2 bp9cbjyn g5ia77u1 mtkw9kbi tlpljxtp qensuy8j ppp5ayq2 goun2846 ccm00jje s44p3ltw mk2mc5f4 rt8b4zig n8ej3o3l agehan2d sk4xxmp2 rq0escxv nhd2j8a9 j83agx80 mg4g778l btwxx1t3 pfnyh3mw p7hjln8o kvgmc6g5 cxmmr5t8 oygrvhab hcukyx3x tgvbjcpo hpfvmrgz jb3vyjys rz4wbd8a qt6c0cv9 a8nywdso l9j0dhe7 i1ao9s8h esuyzwwr gokke00a du4w35lb lzcic4wl abiwlrkh p8dawk7l buofh1pr taijpn5t\" role=\"button\" tabindex=\"0\"><div class=\"m9osqain nhd2j8a9 q9uorilb n3ffmt46 l9j0dhe7 gpro0wi8\"><span class=\"q9uorilb sf5mxxl7 bdca9zbp\"></span>Нравится</div></div><div aria-label=\"Отреагировать\" class=\"oajrlxb2 gs1a9yip g5ia77u1 mtkw9kbi tlpljxtp qensuy8j ppp5ayq2 goun2846 ccm00jje s44p3ltw mk2mc5f4 rt8b4zig n8ej3o3l agehan2d sk4xxmp2 rq0escxv nhd2j8a9 pq6dq46d mg4g778l btwxx1t3 pfnyh3mw p7hjln8o kvgmc6g5 cxmmr5t8 oygrvhab kkf49tns tgvbjcpo hpfvmrgz jb3vyjys rz4wbd8a qt6c0cv9 a8nywdso pmk7jnqg i1ao9s8h esuyzwwr f1sip0of du4w35lb lzcic4wl abiwlrkh p8dawk7l q45zohi1 g0aa4cga\" role=\"button\" tabindex=\"0\"><i class=\"hu5pjgll m6k467ps\" style=\"background-image: url(&quot;https://static.xx.fbcdn.net/rsrc.php/v3/yl/r/7XZjj2jF_kc.png&quot;); background-position: 0px -1336px; background-size: auto; width: 12px; height: 12px; background-repeat: no-repeat; display: inline-block;\"></i><div class=\"n00je7tq arfg74bv qs9ysxi8 k77z8yql i09qtzwb n7fi1qx3 b5wmifdl hzruof5a pmk7jnqg j9ispegn kr520xx4 c5ndavph art1omkt ot9fgl3s\" data-visualcompletion=\"ignore\"></div></div></span></div></span></li><li class=\"_6coj\"><span aria-hidden=\"true\" class=\"_6cok\">&nbsp;·&nbsp;</span><div class=\"oajrlxb2 g5ia77u1 qu0x051f esr5mh6w e9989ue4 r7d6kgcz rq0escxv nhd2j8a9 q9uorilb p7hjln8o kvgmc6g5 cxmmr5t8 oygrvhab hcukyx3x jb3vyjys rz4wbd8a qt6c0cv9 a8nywdso i1ao9s8h esuyzwwr f1sip0of lzcic4wl m9osqain gpro0wi8 n3ffmt46 l9j0dhe7\" role=\"button\" tabindex=\"0\">Ответить</div></li><li class=\"_6coj\"><span aria-hidden=\"true\" class=\"_6cok\">&nbsp;·&nbsp;</span><a class=\"oajrlxb2 g5ia77u1 qu0x051f esr5mh6w e9989ue4 r7d6kgcz rq0escxv nhd2j8a9 nc684nl6 p7hjln8o kvgmc6g5 cxmmr5t8 oygrvhab hcukyx3x jb3vyjys rz4wbd8a qt6c0cv9 a8nywdso i1ao9s8h esuyzwwr f1sip0of lzcic4wl m9osqain gpro0wi8 knj5qynh\" href=\"https://www.facebook.com/themeduza/posts/1963666257121453?comment_id=1963681670453245&amp;__cft__[0]=AZWgRp8yGuxab7xBmkaoHAkvE6SQd6_-7WVpzAw-WWJLmjnOKkQNvHBlcUJQvo3qaDwjB1aFjnCaB7Bq-ubBhcCLvO-gvPdBMLyg8xWsSsqAsmYHmXM3mcPwJ1a9r0lzgf4wDBDETFp64rQq2htclwtn&amp;__tn__=R]-R\" role=\"link\" tabindex=\"0\"><span class=\"tojvnm2t a6sixzi8 abs2jz4q a8s20v7p t1p8iaqh k5wvi7nf q3lfd5jv pk4s997a bipmatt0 cebpdrjk qowsmv63 owwhemhu dp1hu0rb dhp61c6y iyyx5f41\">21 ч.</span></a></li></ul></div></div></div></div><div><div class=\"ni8dbmo4 stjgntxs l9j0dhe7 d0szoon8\"><div class=\"ns4ygwem s44p3ltw tpcyxxvw qr6iehes pw8ppx28 k973klho kywkl1fr mk2mc5f4 k0bpgpbk pmk7jnqg mmi0k12o b73ngqbp me31hnl3\"></div></div></div></li><li><div class=\"ni8dbmo4 stjgntxs l9j0dhe7\"><div><div aria-label=\"Комментарий Леонид Каневский 21 час назад\" role=\"article\" tabindex=\"-1\" class=\"l9j0dhe7 ecm0bbzt rz4wbd8a qt6c0cv9 dati1w0a j83agx80 btwxx1t3 lzcic4wl\"><div class=\"nqmvxvec s45kfl79 emlxlaya bkmhp75w spb7xbtv a8c37x1j fv0vnmcu rs0gx3tq l9j0dhe7\"><div class=\"nc684nl6\"><a aria-hidden=\"true\" class=\"oajrlxb2 gs1a9yip g5ia77u1 mtkw9kbi tlpljxtp qensuy8j ppp5ayq2 goun2846 ccm00jje s44p3ltw mk2mc5f4 rt8b4zig n8ej3o3l agehan2d sk4xxmp2 rq0escxv nhd2j8a9 q9uorilb mg4g778l btwxx1t3 pfnyh3mw p7hjln8o kvgmc6g5 cxmmr5t8 oygrvhab hcukyx3x tgvbjcpo hpfvmrgz jb3vyjys rz4wbd8a qt6c0cv9 a8nywdso l9j0dhe7 i1ao9s8h esuyzwwr f1sip0of du4w35lb lzcic4wl abiwlrkh p8dawk7l\" href=\"https://www.facebook.com/profile.php?id=100006044805145&amp;comment_id=Y29tbWVudDoxOTYzNjY2MjU3MTIxNDUzXzE5NjM2ODM4MTcxMTk2OTc%3D&amp;__cft__[0]=AZWgRp8yGuxab7xBmkaoHAkvE6SQd6_-7WVpzAw-WWJLmjnOKkQNvHBlcUJQvo3qaDwjB1aFjnCaB7Bq-ubBhcCLvO-gvPdBMLyg8xWsSsqAsmYHmXM3mcPwJ1a9r0lzgf4wDBDETFp64rQq2htclwtn&amp;__tn__=R]-R\" role=\"link\" tabindex=\"-1\"><div class=\"q9uorilb l9j0dhe7 pzggbiyp du4w35lb\"><svg aria-hidden=\"true\" class=\"pzggbiyp\" data-visualcompletion=\"ignore-dynamic\" role=\"none\" style=\"height: 32px; width: 32px;\"><mask id=\"jsc_c_c1\"><circle cx=\"16\" cy=\"16\" fill=\"white\" r=\"16\"></circle></mask><g mask=\"url(#jsc_c_c1)\"><image x=\"0\" y=\"0\" height=\"100%\" preserveAspectRatio=\"xMidYMid slice\" width=\"100%\" xlink:href=\"https://scontent-hel3-1.xx.fbcdn.net/v/t1.6435-1/cp0/p32x32/84464353_2538637406347728_1901156012170149888_n.jpg?_nc_cat=105&amp;ccb=1-3&amp;_nc_sid=7206a8&amp;_nc_ohc=YDK34lrTalIAX8_dHD4&amp;_nc_ht=scontent-hel3-1.xx&amp;tp=27&amp;oh=5bd509b8425ad7a06e183a6f403d1e2f&amp;oe=6097C88D\" style=\"height: 32px; width: 32px;\"></image><circle class=\"mlqo0dh0 georvekb s6kb5r3f\" cx=\"16\" cy=\"16\" r=\"16\"></circle></g></svg></div><div class=\"s45kfl79 emlxlaya bkmhp75w spb7xbtv i09qtzwb n7fi1qx3 b5wmifdl hzruof5a pmk7jnqg j9ispegn kr520xx4 c5ndavph art1omkt ot9fgl3s\" data-visualcompletion=\"ignore\"></div></a></div></div><div class=\"g3eujd1d ni8dbmo4 stjgntxs hv4rvrfc\"><div><div class=\"q9uorilb bvz0fpym c1et5uql sf5mxxl7\"><div class=\"_680y\"><div class=\"_6cuy\"><div class=\"b3i9ofy5 e72ty7fz qlfml3jp inkptoze qmr60zad rq0escxv oo9gr5id q9uorilb kvgmc6g5 cxmmr5t8 oygrvhab hcukyx3x d2edcug0 jm1wdb64 l9j0dhe7 l3itjdph qv66sw1b\"><div class=\"tw6a2znq sj5x9vvc d1544ag0 cxgpxx05\"><div class=\"nc684nl6\"><a class=\"oajrlxb2 g5ia77u1 qu0x051f esr5mh6w e9989ue4 r7d6kgcz rq0escxv nhd2j8a9 nc684nl6 p7hjln8o kvgmc6g5 cxmmr5t8 oygrvhab hcukyx3x jb3vyjys rz4wbd8a qt6c0cv9 a8nywdso i1ao9s8h esuyzwwr f1sip0of lzcic4wl gmql0nx0 gpro0wi8\" href=\"https://www.facebook.com/profile.php?id=100006044805145&amp;comment_id=Y29tbWVudDoxOTYzNjY2MjU3MTIxNDUzXzE5NjM2ODM4MTcxMTk2OTc%3D&amp;__cft__[0]=AZWgRp8yGuxab7xBmkaoHAkvE6SQd6_-7WVpzAw-WWJLmjnOKkQNvHBlcUJQvo3qaDwjB1aFjnCaB7Bq-ubBhcCLvO-gvPdBMLyg8xWsSsqAsmYHmXM3mcPwJ1a9r0lzgf4wDBDETFp64rQq2htclwtn&amp;__tn__=R]-R\" role=\"link\" tabindex=\"0\"><span class=\"pq6dq46d\"><span class=\"d2edcug0 hpfvmrgz qv66sw1b c1et5uql lr9zc1uh a8c37x1j keod5gw0 nxhoafnm aigsh9s9 d9wwppkn fe6kdd0r mau55g9w c8b282yb mdeji52x e9vueds3 j5wam9gi lrazzd5p oo9gr5id\" dir=\"auto\">Леонид Каневский</span></span></a></div><div class=\"ecm0bbzt e5nlhep0 a8c37x1j\"><span class=\"d2edcug0 hpfvmrgz qv66sw1b c1et5uql lr9zc1uh a8c37x1j keod5gw0 nxhoafnm aigsh9s9 d3f4x2em fe6kdd0r mau55g9w c8b282yb iv3no6db jq4qci2q a3bd9o3v knj5qynh oo9gr5id\" dir=\"auto\" lang=\"ru_RU\"><div class=\"kvgmc6g5 cxmmr5t8 oygrvhab hcukyx3x c1et5uql\"><div dir=\"auto\" style=\"text-align: start;\">А, например, о время операции \"Чечевица\" Сталин превратил жизнь многих ингушей и чеченцев в ад. И были люди, которым это понравилось. И были те, которым нет. А большинство об этом вообще понятия не имело.</div><div dir=\"auto\" style=\"text-align: start;\">Нехороший заголовок в подкасте. Разные люди ест... <div class=\"oajrlxb2 g5ia77u1 qu0x051f esr5mh6w e9989ue4 r7d6kgcz rq0escxv nhd2j8a9 nc684nl6 p7hjln8o kvgmc6g5 cxmmr5t8 oygrvhab hcukyx3x jb3vyjys rz4wbd8a qt6c0cv9 a8nywdso i1ao9s8h esuyzwwr f1sip0of lzcic4wl oo9gr5id gpro0wi8 lrazzd5p\" role=\"button\" tabindex=\"0\">Ещё</div></div></div></span></div></div></div></div></div></div><div class=\"q9uorilb sf5mxxl7 pgctjfs5\"><div class=\"no6464jc b5wmifdl\"><span class=\"tojvnm2t a6sixzi8 abs2jz4q a8s20v7p t1p8iaqh k5wvi7nf q3lfd5jv pk4s997a bipmatt0 cebpdrjk qowsmv63 owwhemhu dp1hu0rb dhp61c6y iyyx5f41\"><div aria-expanded=\"false\" aria-haspopup=\"menu\" aria-label=\"Скрыть комментарий или пожаловаться на него\" class=\"oajrlxb2 gs1a9yip g5ia77u1 mtkw9kbi tlpljxtp qensuy8j ppp5ayq2 goun2846 ccm00jje s44p3ltw mk2mc5f4 rt8b4zig n8ej3o3l agehan2d sk4xxmp2 rq0escxv nhd2j8a9 pq6dq46d mg4g778l btwxx1t3 pfnyh3mw p7hjln8o kvgmc6g5 cxmmr5t8 oygrvhab hcukyx3x tgvbjcpo hpfvmrgz jb3vyjys rz4wbd8a qt6c0cv9 a8nywdso l9j0dhe7 i1ao9s8h esuyzwwr f1sip0of du4w35lb lzcic4wl abiwlrkh p8dawk7l dwo3fsh8 pzggbiyp pkj7ub1o bqnlxs5p kkg9azqs c24pa1uk ln9iyx3p fe6kdd0r ar1oviwq l10q8mi9 sq40qgkc s8quxz6p pdjglbur\" role=\"button\" tabindex=\"0\"><i class=\"hu5pjgll m6k467ps\" style=\"background-image: url(&quot;https://static.xx.fbcdn.net/rsrc.php/v3/yl/r/7XZjj2jF_kc.png&quot;); background-position: 0px -1086px; background-size: auto; width: 16px; height: 16px; background-repeat: no-repeat; display: inline-block;\"></i><div class=\"s45kfl79 emlxlaya bkmhp75w spb7xbtv i09qtzwb n7fi1qx3 b5wmifdl hzruof5a pmk7jnqg j9ispegn kr520xx4 c5ndavph art1omkt ot9fgl3s\" data-visualcompletion=\"ignore\" style=\"inset: -8px;\"></div></div></span></div></div></div><ul class=\"_6coi oygrvhab ozuftl9m l66bhrea linoseic\"><li class=\"_6coj\"><span aria-hidden=\"true\" class=\"_6cok\">&nbsp;·&nbsp;</span><span class=\"q9uorilb\"><div class=\"l9j0dhe7 q9uorilb\"><span><div aria-label=\"Нравится\" class=\"oajrlxb2 bp9cbjyn g5ia77u1 mtkw9kbi tlpljxtp qensuy8j ppp5ayq2 goun2846 ccm00jje s44p3ltw mk2mc5f4 rt8b4zig n8ej3o3l agehan2d sk4xxmp2 rq0escxv nhd2j8a9 j83agx80 mg4g778l btwxx1t3 pfnyh3mw p7hjln8o kvgmc6g5 cxmmr5t8 oygrvhab hcukyx3x tgvbjcpo hpfvmrgz jb3vyjys rz4wbd8a qt6c0cv9 a8nywdso l9j0dhe7 i1ao9s8h esuyzwwr gokke00a du4w35lb lzcic4wl abiwlrkh p8dawk7l buofh1pr taijpn5t\" role=\"button\" tabindex=\"0\"><div class=\"m9osqain nhd2j8a9 q9uorilb n3ffmt46 l9j0dhe7 gpro0wi8\"><span class=\"q9uorilb sf5mxxl7 bdca9zbp\"></span>Нравится</div></div><div aria-label=\"Отреагировать\" class=\"oajrlxb2 gs1a9yip g5ia77u1 mtkw9kbi tlpljxtp qensuy8j ppp5ayq2 goun2846 ccm00jje s44p3ltw mk2mc5f4 rt8b4zig n8ej3o3l agehan2d sk4xxmp2 rq0escxv nhd2j8a9 pq6dq46d mg4g778l btwxx1t3 pfnyh3mw p7hjln8o kvgmc6g5 cxmmr5t8 oygrvhab kkf49tns tgvbjcpo hpfvmrgz jb3vyjys rz4wbd8a qt6c0cv9 a8nywdso pmk7jnqg i1ao9s8h esuyzwwr f1sip0of du4w35lb lzcic4wl abiwlrkh p8dawk7l q45zohi1 g0aa4cga\" role=\"button\" tabindex=\"0\"><i class=\"hu5pjgll m6k467ps\" style=\"background-image: url(&quot;https://static.xx.fbcdn.net/rsrc.php/v3/yl/r/7XZjj2jF_kc.png&quot;); background-position: 0px -1336px; background-size: auto; width: 12px; height: 12px; background-repeat: no-repeat; display: inline-block;\"></i><div class=\"n00je7tq arfg74bv qs9ysxi8 k77z8yql i09qtzwb n7fi1qx3 b5wmifdl hzruof5a pmk7jnqg j9ispegn kr520xx4 c5ndavph art1omkt ot9fgl3s\" data-visualcompletion=\"ignore\"></div></div></span></div></span></li><li class=\"_6coj\"><span aria-hidden=\"true\" class=\"_6cok\">&nbsp;·&nbsp;</span><div class=\"oajrlxb2 g5ia77u1 qu0x051f esr5mh6w e9989ue4 r7d6kgcz rq0escxv nhd2j8a9 q9uorilb p7hjln8o kvgmc6g5 cxmmr5t8 oygrvhab hcukyx3x jb3vyjys rz4wbd8a qt6c0cv9 a8nywdso i1ao9s8h esuyzwwr f1sip0of lzcic4wl m9osqain gpro0wi8 n3ffmt46 l9j0dhe7\" role=\"button\" tabindex=\"0\">Ответить</div></li><li class=\"_6coj\"><span aria-hidden=\"true\" class=\"_6cok\">&nbsp;·&nbsp;</span><a class=\"oajrlxb2 g5ia77u1 qu0x051f esr5mh6w e9989ue4 r7d6kgcz rq0escxv nhd2j8a9 nc684nl6 p7hjln8o kvgmc6g5 cxmmr5t8 oygrvhab hcukyx3x jb3vyjys rz4wbd8a qt6c0cv9 a8nywdso i1ao9s8h esuyzwwr f1sip0of lzcic4wl m9osqain gpro0wi8 knj5qynh\" href=\"https://www.facebook.com/themeduza/posts/1963666257121453?comment_id=1963683817119697&amp;__cft__[0]=AZWgRp8yGuxab7xBmkaoHAkvE6SQd6_-7WVpzAw-WWJLmjnOKkQNvHBlcUJQvo3qaDwjB1aFjnCaB7Bq-ubBhcCLvO-gvPdBMLyg8xWsSsqAsmYHmXM3mcPwJ1a9r0lzgf4wDBDETFp64rQq2htclwtn&amp;__tn__=R]-R\" role=\"link\" tabindex=\"0\"><span class=\"tojvnm2t a6sixzi8 abs2jz4q a8s20v7p t1p8iaqh k5wvi7nf q3lfd5jv pk4s997a bipmatt0 cebpdrjk qowsmv63 owwhemhu dp1hu0rb dhp61c6y iyyx5f41\">21 ч.</span></a></li></ul></div></div></div></div><div><div class=\"ni8dbmo4 stjgntxs l9j0dhe7 d0szoon8\"><div class=\"ns4ygwem s44p3ltw tpcyxxvw qr6iehes pw8ppx28 k973klho kywkl1fr mk2mc5f4 k0bpgpbk pmk7jnqg mmi0k12o b73ngqbp me31hnl3\"></div></div></div></li></ul><div class=\"j83agx80 bkfpd7mw jb3vyjys hv4rvrfc qt6c0cv9 dati1w0a l9j0dhe7\"><div class=\"j83agx80 buofh1pr jklb3kyz l9j0dhe7\"><div class=\"is6700om i09qtzwb b5wmifdl pmk7jnqg dknv9fml kr520xx4 ms05siws art1omkt heur4gxb dsl5tyj5\"></div><div class=\"oajrlxb2 bp9cbjyn g5ia77u1 mtkw9kbi tlpljxtp qensuy8j ppp5ayq2 goun2846 ccm00jje s44p3ltw mk2mc5f4 rt8b4zig n8ej3o3l agehan2d sk4xxmp2 rq0escxv nhd2j8a9 pq6dq46d mg4g778l btwxx1t3 g5gj957u p7hjln8o kvgmc6g5 cxmmr5t8 oygrvhab hcukyx3x tgvbjcpo hpfvmrgz jb3vyjys p8fzw8mz qt6c0cv9 a8nywdso l9j0dhe7 i1ao9s8h esuyzwwr f1sip0of du4w35lb lzcic4wl abiwlrkh gpro0wi8 m9osqain buofh1pr\" role=\"button\" tabindex=\"0\"><span class=\"j83agx80 fv0vnmcu hpfvmrgz\"><span class=\"d2edcug0 hpfvmrgz qv66sw1b c1et5uql lr9zc1uh a8c37x1j keod5gw0 nxhoafnm aigsh9s9 d3f4x2em fe6kdd0r mau55g9w c8b282yb iv3no6db jq4qci2q a3bd9o3v lrazzd5p m9osqain\" dir=\"auto\">Показать ещё 2 комментария</span></span></div></div></div><div class=\"kvgmc6g5 wkznzc2l oygrvhab dhix69tm ecm0bbzt rz4wbd8a sj5x9vvc a8nywdso\"><div class=\"oajrlxb2 g5ia77u1 qu0x051f esr5mh6w e9989ue4 r7d6kgcz rq0escxv nhd2j8a9 q9uorilb p7hjln8o kvgmc6g5 cxmmr5t8 oygrvhab hcukyx3x jb3vyjys rz4wbd8a qt6c0cv9 a8nywdso i1ao9s8h esuyzwwr f1sip0of lzcic4wl l9j0dhe7 abiwlrkh gpro0wi8 g0qnabr5 m9osqain m9osqain gpro0wi8\" role=\"button\" tabindex=\"0\"><span class=\"d2edcug0 hpfvmrgz qv66sw1b c1et5uql lr9zc1uh a8c37x1j keod5gw0 nxhoafnm aigsh9s9 d3f4x2em fe6kdd0r mau55g9w c8b282yb iv3no6db jq4qci2q a3bd9o3v lrazzd5p m9osqain\" dir=\"auto\">Написать комментарий…</span></div></div></div></div></div></div></div></div></div></div></div></div></div>'"
      ]
     },
     "execution_count": 234,
     "metadata": {},
     "output_type": "execute_result"
    }
   ],
   "source": [
    "post.get_attribute('innerHTML')"
   ]
  }
 ],
 "metadata": {
  "kernelspec": {
   "display_name": "Python 3",
   "language": "python",
   "name": "python3"
  },
  "language_info": {
   "codemirror_mode": {
    "name": "ipython",
    "version": 3
   },
   "file_extension": ".py",
   "mimetype": "text/x-python",
   "name": "python",
   "nbconvert_exporter": "python",
   "pygments_lexer": "ipython3",
   "version": "3.8.3"
  }
 },
 "nbformat": 4,
 "nbformat_minor": 2
}
