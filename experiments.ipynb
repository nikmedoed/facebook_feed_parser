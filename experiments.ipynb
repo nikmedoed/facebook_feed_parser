{
 "cells": [
  {
   "cell_type": "code",
   "execution_count": 188,
   "metadata": {},
   "outputs": [],
   "source": [
    "import copy\n",
    "import multiprocessing as mp\n",
    "import multiprocessing.dummy as dummy_mp\n",
    "import os\n",
    "import re\n",
    "from datetime import datetime\n",
    "from string import Template\n",
    "\n",
    "import pymorphy2\n",
    "from bs4 import BeautifulSoup\n",
    "from selenium import webdriver\n",
    "from selenium.common.exceptions import NoSuchElementException, TimeoutException\n",
    "from selenium.webdriver.common.by import By\n",
    "from selenium.webdriver.support import expected_conditions as EC\n",
    "from selenium.webdriver.support.ui import WebDriverWait\n",
    "\n",
    "FB_LOGIN = '89026051080'\n",
    "FB_PASSWORD = 'z6A-8Wd-XiV-VNY'\n",
    "login, password = FB_LOGIN, FB_PASSWORD\n",
    "\n",
    "__base_url = 'https://www.facebook.com'\n",
    "__base_group_url = 'https://www.facebook.com/groups'\n",
    "__login_url = 'https://www.facebook.com/login'\n",
    "\n",
    "options = webdriver.ChromeOptions()\n",
    "options.add_argument(\"--no-sandbox\")\n",
    "options.add_argument(\"--disable-gpu\")\n",
    "\n",
    "options.add_argument(\"--disable-software-rasterizer\")  # maybe not needed\n",
    "options.add_argument(\"--disable-dev-shm-usage\")  # maybe not needed\n",
    "\n",
    "browser = webdriver.Chrome(options = options)"
   ]
  },
  {
   "cell_type": "code",
   "execution_count": 189,
   "metadata": {},
   "outputs": [],
   "source": [
    "def enter_facebook(browser, login, password):\n",
    "    \"\"\"Login to fb\n",
    "\n",
    "    :param login: (str) fb login\n",
    "    :param password: (str) fb password\n",
    "\n",
    "    :return: -1 if error\n",
    "    \"\"\"\n",
    "    browser.get(__login_url)\n",
    "\n",
    "    try:\n",
    "        login_form = browser.find_element_by_xpath(\"//input[@id='email' or @name='email']\")\n",
    "        login_form.clear()\n",
    "        login_form.send_keys(login)\n",
    "    except Exception as e:\n",
    "        print(e)\n",
    "        print('error: email')\n",
    "        return -1\n",
    "\n",
    "    try:\n",
    "        pass_form = browser.find_element_by_xpath(\"//input[@id='pass' or @name='pass']\")\n",
    "        pass_form.clear()\n",
    "        pass_form.send_keys(password)\n",
    "    except Exception as e:\n",
    "        print(e)\n",
    "        print('error: password')\n",
    "        return -1\n",
    "\n",
    "    try:\n",
    "        browser.find_element_by_xpath(\"//button[@id='loginbutton']\").click()\n",
    "    except Exception as e:\n",
    "        print(e)\n",
    "        print('error: login button')\n",
    "        return -1\n",
    "\n",
    "    if 'login_attempt' in browser.current_url:\n",
    "        return -1"
   ]
  },
  {
   "cell_type": "code",
   "execution_count": 190,
   "metadata": {},
   "outputs": [],
   "source": [
    "enter_facebook(browser, FB_LOGIN, FB_PASSWORD)"
   ]
  },
  {
   "cell_type": "code",
   "execution_count": 12,
   "metadata": {
    "scrolled": true
   },
   "outputs": [],
   "source": [
    "# posts = fb.get_posts('100032357613324')\n",
    "page_id = '100032357613324'\n",
    "browser.get(__base_url + '/' + page_id)"
   ]
  },
  {
   "cell_type": "markdown",
   "metadata": {},
   "source": [
    "page_soup = BeautifulSoup(browser.page_source, 'lxml')"
   ]
  },
  {
   "cell_type": "code",
   "execution_count": 15,
   "metadata": {},
   "outputs": [],
   "source": [
    "nonavbl = page_soup.find('title', text=re.compile('.*Страница не найдена.*'))\n",
    "if nonavbl:\n",
    "    print('Страница не найдена')\n",
    "nonavbl = page_soup.find('h2', text=re.compile('.*Эта страница недоступна.*'))\n",
    "if nonavbl:\n",
    "    print('Эта страница недоступна')\n",
    "nonavbl = page_soup.find('h2', text=re.compile('.*К сожалению, этот контент сейчас недоступен.*'))\n",
    "if nonavbl:\n",
    "    print('К сожалению, этот контент сейчас недоступен')"
   ]
  },
  {
   "cell_type": "code",
   "execution_count": 16,
   "metadata": {},
   "outputs": [],
   "source": [
    "page_soup.find('title', text=re.compile('.*Страница не найдена.*'))"
   ]
  },
  {
   "cell_type": "markdown",
   "metadata": {},
   "source": [
    "### Блок для замены функции поиска постов"
   ]
  },
  {
   "cell_type": "code",
   "execution_count": 250,
   "metadata": {},
   "outputs": [],
   "source": [
    "from time import sleep \n",
    "from datetime import datetime, timedelta\n",
    "\n",
    "from selenium.webdriver.common.action_chains import ActionChains\n",
    "actions = ActionChains(browser)\n",
    "limit = 20"
   ]
  },
  {
   "cell_type": "code",
   "execution_count": 321,
   "metadata": {},
   "outputs": [
    {
     "data": {
      "text/plain": [
       "[datetime.datetime(2021, 3, 24, 0, 0),\n",
       " datetime.datetime(2021, 4, 10, 18, 33, 5, 628457),\n",
       " datetime.datetime(2021, 2, 11, 0, 0),\n",
       " datetime.datetime(2021, 4, 8, 19, 33, 5, 628457),\n",
       " datetime.datetime(2021, 4, 10, 19, 3, 5, 628457)]"
      ]
     },
     "execution_count": 321,
     "metadata": {},
     "output_type": "execute_result"
    }
   ],
   "source": [
    "date1 = '24 марта в 10:20'\n",
    "date2 = '1 ч.'\n",
    "date3 = '11 февраля'\n",
    "date4 = '2 д.'\n",
    "date5 = '30 мин.'\n",
    "\n",
    "textToDate_months = {\n",
    "    'января': 1,\n",
    "    'февраля': 2,\n",
    "    'марта': 3,\n",
    "    'фпреля': 4,\n",
    "    'мая': 5,\n",
    "    'июня': 6,\n",
    "    'июля': 7,\n",
    "    'августа': 8,\n",
    "    'сентября': 9,\n",
    "    'октября': 10,\n",
    "    'ноября': 11,\n",
    "    'декабря': 12\n",
    "}\n",
    "\n",
    "def textToDate(text):        \n",
    "    date = datetime.today()\n",
    "    if text:  \n",
    "        s = text.split()\n",
    "        t = int(s[0])\n",
    "        if 'ч.' in s[1]:\n",
    "            date -= timedelta(hours=t)\n",
    "        elif 'д.' in s[1]:\n",
    "            date -= timedelta(days=t)\n",
    "        elif 'мин.' in s[1]:\n",
    "            date -= timedelta(minutes=t)\n",
    "        else:\n",
    "            date = datetime(date.year, int(textToDate_months.get(s[1], date.month)), t)                \n",
    "    return date\n",
    "    \n",
    "\n",
    "[textToDate(d) for d in [date1, date2, date3, date4, date5]]"
   ]
  },
  {
   "cell_type": "code",
   "execution_count": 317,
   "metadata": {},
   "outputs": [],
   "source": [
    "def getPostDate(browser, post):\n",
    "    browser.execute_script(\"arguments[0].scrollIntoView();\", post)\n",
    "    abilities = post.find_elements_by_xpath('.//span/a/span')\n",
    "    if len(abilities)> 0:\n",
    "        return textToDate(abilities[0].text)\n",
    "    return datetime.today()            "
   ]
  },
  {
   "cell_type": "code",
   "execution_count": 197,
   "metadata": {},
   "outputs": [],
   "source": [
    "# try:\n",
    "#     WebDriverWait(browser, 5).until(EC.presence_of_element_located((By.TAG_NAME, \"div[role='article']\")))\n",
    "# except TimeoutException:\n",
    "#     print(posts_list) "
   ]
  },
  {
   "cell_type": "code",
   "execution_count": 351,
   "metadata": {},
   "outputs": [],
   "source": [
    "from_date = datetime.today() - timedelta(days=2)"
   ]
  },
  {
   "cell_type": "code",
   "execution_count": 376,
   "metadata": {},
   "outputs": [
    {
     "name": "stdout",
     "output_type": "stream",
     "text": [
      "5 0\n",
      "11 5\n",
      "19 11\n",
      "35 19\n",
      "35 19\n"
     ]
    }
   ],
   "source": [
    "postcount = -1\n",
    "posts_list = []\n",
    "error_count = 0\n",
    "mindate = datetime.today()\n",
    "\n",
    "while ((not from_date and len(posts_list) < limit) or (from_date and mindate >= from_date)) and len(posts_list) != postcount:\n",
    "    postcount = len(posts_list)\n",
    "    for i in range(postcount // 3 + 1):\n",
    "        browser.execute_script(\"window.scrollTo(0, document.body.scrollHeight);\")\n",
    "        sleep(0.5)    \n",
    "    posts_list = browser.find_elements_by_tag_name(\"div[role='article'][aria-posinset]\")\n",
    "    if len(posts_list)>0:\n",
    "        mindate = getPostDate(browser, posts_list[-1])\n",
    "    print(len(posts_list), postcount)\n",
    "\n",
    "if from_date:\n",
    "    posts_list = [post for post in posts_list if getPostDate(browser, post) >= from_date]\n",
    "    \n",
    "print(len(posts_list), postcount)"
   ]
  },
  {
   "cell_type": "code",
   "execution_count": 381,
   "metadata": {},
   "outputs": [],
   "source": [
    "posts_xpath = \"div[role='article'][aria-posinset]\"\n",
    "post_more_button = './/div[contains(text(), \"Ещё\")]'\n",
    "post_comment_more_button = './/span[starts-with(text(), \"Посмотреть ещё\")]'\n",
    "post_comment_more_button2 = './/span[starts-with(text(), \"Показать ещё\")]'\n",
    "need_comments = True\n",
    "\n",
    "result = []\n",
    "for ind, post in enumerate(posts_list):\n",
    "    try:\n",
    "        postDate = getPostDate(browser, post)\n",
    "        # раскрыть ещё, если есть\n",
    "        if not from_date or postDate >= from_date:\n",
    "            more = post.find_elements_by_xpath(post_more_button)\n",
    "            if more:\n",
    "                more[0].click()\n",
    "\n",
    "            # раскрыть все комменты, если надо\n",
    "            if need_comments:\n",
    "                more_comments_finder = lambda: post.find_elements_by_xpath(\n",
    "                    post_comment_more_button) + post.find_elements_by_xpath(\n",
    "                    post_comment_more_button2)\n",
    "                more_comments = more_comments_finder()\n",
    "                while more_comments:\n",
    "                    more_comments[0].click()\n",
    "                    sleep(1)\n",
    "                    more_comments = more_comments_finder()\n",
    "\n",
    "            result.append(BeautifulSoup(post.get_attribute('innerHTML'), 'lxml'))\n",
    "    except Exception as e:\n",
    "        print(f'Пост {ind + 1} пропущен\\n', e)"
   ]
  },
  {
   "cell_type": "code",
   "execution_count": 367,
   "metadata": {},
   "outputs": [],
   "source": [
    "post = posts_list[0]"
   ]
  },
  {
   "cell_type": "code",
   "execution_count": 372,
   "metadata": {},
   "outputs": [],
   "source": [
    "browser.execute_script(\"arguments[0].scrollIntoView();\", post)\n",
    "more = post.find_elements_by_xpath('.//div[contains(text(), \"Ещё\")]')\n",
    "if more:\n",
    "    more[0].click()"
   ]
  },
  {
   "cell_type": "code",
   "execution_count": 373,
   "metadata": {},
   "outputs": [],
   "source": [
    "   \n",
    "more_comments_finder = lambda: post.find_elements_by_xpath('.//span[starts-with(text(), \"Посмотреть ещё\")]') + post.find_elements_by_xpath('.//span[starts-with(text(), \"Показать ещё\")]')\n",
    "more_comments = more_comments_finder()\n",
    "while more_comments:\n",
    "    more_comments[0].click()\n",
    "    sleep(1)\n",
    "    more_comments = more_comments_finder()    \n",
    "    \n",
    "comments = post.find_elements_by_tag_name(\"ul\")[1]"
   ]
  },
  {
   "cell_type": "code",
   "execution_count": null,
   "metadata": {},
   "outputs": [],
   "source": [
    "print(len(posts_list))\n",
    "dates = [getPostDate(browser, post) for post in posts_list]\n",
    "print(len(dates))\n",
    "dates\n",
    "# post.get_attribute('innerHTML')"
   ]
  },
  {
   "cell_type": "markdown",
   "metadata": {},
   "source": [
    "## Конструктор поста"
   ]
  },
  {
   "cell_type": "code",
   "execution_count": 394,
   "metadata": {},
   "outputs": [],
   "source": [
    "post_soup = result[2]"
   ]
  },
  {
   "cell_type": "code",
   "execution_count": 384,
   "metadata": {},
   "outputs": [],
   "source": [
    "def get_id(post_soup):\n",
    "    try:\n",
    "        post_url = post_soup.find('a', attrs={'href': re.compile(r'.*/posts/.*')})['href']\n",
    "        return re.search(r'/posts/([0-9]+)', post_url).group(1)\n",
    "    except Exception as e:\n",
    "        print(e)\n",
    "        print('crashed while reading id')\n",
    "        # return ''\n",
    "        pass\n",
    "\n",
    "    try:\n",
    "        img_url = post_soup.find('a', attrs={'href': re.compile(r'.*/photos/[a-z]*\\.[0-9]+/[0-9]+/')})['href']\n",
    "        return re.search(r'/photos/[a-z]+\\.[0-9]+/([0-9]+)/', img_url).group(1)\n",
    "    except Exception as e:\n",
    "        print(e)\n",
    "        pass\n",
    "\n",
    "    try:\n",
    "        permalink = post_soup.find('a', attrs={'href': re.compile(r'.*/permalink/[0-9]+/.*')})['href']\n",
    "        return re.search(r'.*/permalink/([0-9]+)/.*', permalink).group(1)\n",
    "    except Exception as e:\n",
    "        print(e)\n",
    "        return ''"
   ]
  },
  {
   "cell_type": "code",
   "execution_count": 386,
   "metadata": {},
   "outputs": [],
   "source": [
    "def get_icon_url(post_soup):\n",
    "    try:\n",
    "        return post_soup.find('image')['xlink:href']\n",
    "    except Exception as e:\n",
    "        print(e)\n",
    "        print('crashed while reading comment icon')\n",
    "        return None"
   ]
  },
  {
   "cell_type": "code",
   "execution_count": 409,
   "metadata": {},
   "outputs": [],
   "source": [
    "def get_message(post_soup):\n",
    "    try:\n",
    "        content = post_soup.find('div', attrs={'dir': 'auto'}).find('span', attrs={'dir': 'auto'}).findAll('div', recursive=False)\n",
    "        return '\\n'.join(list(map(lambda x: x.text, content)))\n",
    "    except Exception as e:\n",
    "        print(e)\n",
    "        print('crashed while reading message')\n",
    "        return ''"
   ]
  },
  {
   "cell_type": "code",
   "execution_count": 411,
   "metadata": {},
   "outputs": [],
   "source": [
    "def get_date(post_soup):\n",
    "    \"\"\"Get post's date\n",
    "\n",
    "    :param post_soup: (object) post soup\n",
    "\n",
    "    :return: (int) Unix Timestamp (None if error)\n",
    "    \"\"\"\n",
    "    try:\n",
    "        date = post_soup.find('abbr')['data-utime']\n",
    "        return datetime.fromtimestamp(int(date))\n",
    "    except Exception as e:\n",
    "        print(e)\n",
    "        print('crashed while searching date')\n",
    "        return None"
   ]
  },
  {
   "cell_type": "code",
   "execution_count": 412,
   "metadata": {},
   "outputs": [
    {
     "name": "stdout",
     "output_type": "stream",
     "text": [
      "'NoneType' object is not subscriptable\n",
      "crashed while searching date\n"
     ]
    }
   ],
   "source": [
    "get_date(post_soup)\n",
    "# get_comments_count(post_soup)\n",
    "# get_likes(post_soup)\n",
    "# get_reposts_count(post_soup)\n",
    "# get_comments(post_soup)"
   ]
  },
  {
   "cell_type": "code",
   "execution_count": null,
   "metadata": {},
   "outputs": [],
   "source": [
    "def get_comments_count(post_soup):\n",
    "    \"\"\"Get count of post's comments\n",
    "\n",
    "    :param post_soup: (object) post soup\n",
    "\n",
    "    :return: (int) count of comments (0 if error)\n",
    "    \"\"\"\n",
    "    try:\n",
    "        coments_count = post_soup.find('a', text=re.compile(r'^\\s*Комментарии:\\s*\\d+\\s*$'))\n",
    "        return int(re.search(r'\\d+', coments_count.text).group(0))\n",
    "    except Exception as e:\n",
    "        print(e)\n",
    "        print('crashed while searching number of comments')\n",
    "        return 0"
   ]
  },
  {
   "cell_type": "code",
   "execution_count": null,
   "metadata": {},
   "outputs": [],
   "source": [
    "def get_likes(post_soup):\n",
    "    \"\"\"Get count of post's likes\n",
    "\n",
    "    :param post_soup: (object) post soup\n",
    "\n",
    "    :return: (int) count of likes (0 if error)\n",
    "    \"\"\"\n",
    "    try:\n",
    "        likes = post_soup.find('span', attrs={'class': '_3dlh'})\n",
    "        return int(likes.text)\n",
    "    except Exception as e:\n",
    "        print(e)\n",
    "        print('crashed while counting likes')\n",
    "        return 0"
   ]
  },
  {
   "cell_type": "code",
   "execution_count": null,
   "metadata": {},
   "outputs": [],
   "source": [
    "def get_reposts_count(post_soup):\n",
    "    \"\"\"Get count of post's reposts\n",
    "\n",
    "    :param post_soup: (object) post soup\n",
    "\n",
    "    :return: (int) count of reposts (0 if error)\n",
    "    \"\"\"\n",
    "    try:\n",
    "        coments_count = post_soup.find('a', text=re.compile(r'^\\s*Поделились:\\s*\\d+\\s*$'))\n",
    "        return int(re.search(r'\\d+', coments_count.text).group(0))\n",
    "    except Exception as e:\n",
    "        print(e)\n",
    "        print('crashed while searching number of reposts')\n",
    "        return 0"
   ]
  },
  {
   "cell_type": "code",
   "execution_count": null,
   "metadata": {},
   "outputs": [],
   "source": [
    "def get_comments(post_soup):\n",
    "    \"\"\"Get comments for post\n",
    "\n",
    "    :param post_soup: (object) post soup\n",
    "\n",
    "    :return: (list) comments\n",
    "    \"\"\"\n",
    "    try:\n",
    "        comment_el_list = []\n",
    "        for div in post_soup.findAll(lambda x: x.name == 'div' and not x.attrs):\n",
    "            l = div.findAll('div', attrs={'aria-label': re.compile(\".*[Кк]омментарий.*\")})\n",
    "            if len(l) > 0: comment_el_list += l\n",
    "        return [Comment(com_el) for com_el in comment_el_list if Comment(com_el).message is not None]\n",
    "    except Exception as e:\n",
    "        print(e)\n",
    "        print('crashed while searching comments')\n",
    "        return []"
   ]
  },
  {
   "cell_type": "code",
   "execution_count": 407,
   "metadata": {},
   "outputs": [
    {
     "name": "stdout",
     "output_type": "stream",
     "text": [
      "Во Франции аномальные холода, пришедшие в большинство регионов страны, уничтожили значительную часть будущего урожая винограда. В начале апреля по ночам в некоторых провинциях температура опускалась до минус восьми градусов по Цельсию; многие фермеры пытались согреть виноградники, зажигая свечи на участках. Из-за заморозков сборы винограда могут стать наименьшими за последние 40 лет.\n",
      "\n",
      "Из-за пандемии коронавируса количество участников церемонии будет ограничено. Помимо носильщиков гроба, декана часовни в Виндзоре и архиепископа Кентерберийского, на похоронах будут присутствовать 30 человек. Среди них будет принц Гарри, который прилетит на похороны из США.\n",
      "\n",
      "Сегодняшний эпизод «Что случилось» о конфликте в Донбассе — первый подкаст, который мы записали на видео! Признаемся, все произошло довольно спонтанно. Мы только в начале недели решили, что будем снять субботний подкаст на видео. И спустя четыре дня — камера, свет, декорации. Да, мы иногда вот так импровизируем.\n",
      "Смотрите разговор Андрея Перцева и Константина Гаазе здесь — https://www.youtube.com/watch?v=RQo9bKaBe-Y\n",
      "И подписывайтесь на ютьюб-канал студии подкастов «Медузы», чтобы не пропустить новые выпуски.\n",
      "\n",
      "Обострение конфликта в Донбассе может вот-вот перерасти в настоящую войну. Зачем нужен новый конфликт, если Путин проиграет политически, а экономика России может окончательно рухнуть? Рассуждают Андрей Перцев и Константин Гаазе в субботнем выпуске подкаста «Что случилось» (теперь и с видео!).\n",
      "\n",
      "Мировые СМИ готовят некрологи королевских особ сильно загодя, чтобы выпустить их сразу же, как станет известно о смерти. В случае с принцем Филиппом некоторые так торопились, что забыли обновить в написанных за несколько лет текстах количество его правнуков. И вот что они там пишут.\n",
      "\n",
      "Cейчас практика экзорцизма существует не во всех поместных церквях. Документ, подготовленный комиссией по богословию, содержит как историю этой практики, так и предложения по ее унификации и регламентации.\n",
      "\n",
      "В статье рассказывалось, что в 2019 году глава избиркома ЯНАО Андрей Гиберт получил около 33 миллионов рублей, что в несколько раз превышает доходы его коллег в других регионах и на три миллиона больше, чем у главы региона Дмитрия Артюхова.\n",
      "\n",
      "Известно, что в России есть и британский, и даже южноафриканский штаммы коронавируса. И хотя все знают, что они более заразны, это мало кого беспокоит: Роспотребнадзор отчитывается о сотне зафиксированных случаев, но много это или мало - понять сложно. Мы поговорили с эволюционным биологом Георгием Базыкиным, который внимательно изучает то, как меняется вирус, и выяснили, что на самом деле только за последний месяц доля британского штамма выросла в России с 1 до 10 процентов, и нет сомнений, что этот рост продолжится ускоряющимися темпами. Везде, где такое происходило, новые штаммы неизбежно захватывали популяцию потенциально восприимчивых людей, и почти всегда это приводило к новым вспышкам.\n",
      "\n",
      "«Москва делает это открыто, сознательно давая обнаружить танки в дневное время. К войне готовятся не так, это просто демонстрация силы», — заявил собеседник агентства.\n",
      "\n",
      "О визите силовиков сотрудники редакции узнали постфактум, когда ночью встречали главного редактора Романа Анина после допроса в СК\n",
      "\n",
      "По предварительным данным, водитель не справился с управлением на обледеневшей дороге, из-за чего автобус съехал в кювет и перевернулся\n",
      "\n",
      "В 2005 году создатель Badoo Андрей Андреев уехал из России и больше не возвращался в страну. А недавно узнал, что он уже восемь лет как признан официально мертвым. Более того, за это время его квартиру в Петербурге успели продать. Также в схеме поучаствовала его \"вдова\" из Абхазии и судимый нотариус. Рассказываем, что известно об этой истории\n",
      "\n",
      "Согласно заключению паталогоанатома, повреждения на шее Глушкова могут быть вызваны тем, что кто-то держал его сзади. При этом у покойного не было травм, указывающих на длительную схватку — вероятно, отмечается в заключении, его быстро «привели в беспомощное состояние» с помощью удушающего приема\n",
      "\n",
      "Штраф наложен на фоне конфликта властей с основателем компании Джеком Ма\n",
      "\n",
      "Следственные действия проводились из-за того, что Анин имеет статус свидетеля по уголовному делу о нарушении неприкосновенности частной жизни, возбужденному пять лет назад по заявлению Ольги Сечиной, которая тогда была супругой главы «Роснефти». В 2016 году в «Новой газете» вышло расследование Анина, в котором говорилось о том, что супруга Сечина часто проводит время на яхте «Сейнт Принсесс Ольга» стоимостью в 100 миллионов долларов\n",
      "\n",
      "На этой неделе в кино выходит «Мортал Комбат» (вернее не так: «Мортал Комба-а-а-а-ат!»). Но если вам не очень нравятся кровавые молотилки, предлагаем посмотреть фильмы «Уроки фарси», «Минари» и «ЗОЖ».\n",
      "\n",
      "Галина Юзефович рассказывает о романе китайской писательницы Чжан Юэжань «Кокон». Это удачный пример китайской прозы, которая будет хорошо понятна читателям по всему миру (а в России — в особенности из-за исторических параллелей, которые наверняка возникнут у читателя в голове при прочтении). Главные герои — лучшие друзья, которые вынуждены разойтись из-за давних семейных тайн. Их история разворачивается во второй половине XX века, на фоне ключевых событий в истории страны.\n",
      "\n",
      "Супруг королевы Великобритании Елизаветы II принц Филипп, герцог Эдинбургский умер в возрасте 99 лет. Он не дожил до 100 лет всего два месяца. Филипп и Елизавета прожили вместе 73 года\n",
      "\n",
      "Также подписи отказались и в офисе уполномоченного по правам человека при президенте РФ Татьяны Москальковой \n",
      "\n",
      "Снайдеркат пришлось ждать пару лет. Полную версию танцев барона Земо из «Сокола и Зимнего солдата» — меньше недели. Шах и мат, фанаты DC\n",
      "\n",
      "50% участников вопроса безразлично отнеслись к выдвижению Манижи на «Евровидение», 18% восприняли это скорее отрицательно, 13% — скорее положительно. Лучше всего выбор участницы оценили люди в возрасте 18-24 лет.\n",
      "\n",
      "Расследовательская журналистика: * существует *\n",
      "Лора Бассет: подержи мое пиво\n",
      "\n",
      "\n",
      "\n",
      "В подкасте «Чего бы посмотреть» говорим с актрисой, комиком Еленой Новиковой о сериале «Я не шучу», который основан на ее жизни. «Мой мертвый Тибальт сотрясается от смеха, а бухгалтерия, прикрываясь папками, идет через сцену обедать»: почему Елена ушла из театра и занялась стендапом? Как дети актрисы реагировали на сериал? И над какими ее шутками зрители смеются больше всего?\n",
      "А еще Елена рассказывает, за какими комиками надо следить, чтобы понять (и полюбить) современный российский стендап.\n",
      "\n",
      "В Boeing заявили, что уже обратились к 16 авиакомпаниям с рекомендацией приостановить полеты самолетов до окончания проверки, а также подчеркнули, что сотрудничают с Федеральным управлением гражданской авиации США\n",
      "\n",
      "Официальный визит Елизаветы II в Россию состоялся лишь однажды, в 1994 году. Но ее покойный супруг, принц Филипп, за два десятилетия до этого был в СССР в качестве главы Международной федерации конного спорта. Только в 2004 году британский Форин Офис рассекретил документы об этой поездке – и там оказалось немало любопытного. Например, несдержанному на язык принцу составили подробнейшие инструкции, каких тем стоит избегать в беседах с принимающей советской стороной (евреи и диссиденты), и что стоит знать о лидерах СССР (Брежнев волевой, но не очень умный человек, а у Косыгина отличное чувство юмора несмотря на унылое выражение лица).\n",
      "\n",
      "Обыск у главного редактора «Важных историй» Романа Анина закончен. Теперь будет допрос в Следственном комитете\n",
      "\n",
      "Во время митинга силовик, стоявший рядом с осужденным, начал избивать другого протестующего.\n",
      "Мужчина испугался за жену, находившуюся неподалеку, и распылил газ.\n",
      "\n",
      "Принц Филипп и королева Елизавета II были женаты более 70 лет, и все эти годы Филипп был главным соратником королевы — его вклад в сохранение британской монархии как института огромен. Военный, защитник дикой природы, любитель крикета и поло Филипп отличался волевым характером, неполиткорректным чувством юмора и необычайной принципиальностью: за всю жизнь он не дал ни одного откровенного интервью и не сказал ни слова о частной жизни королевской семьи. «Медуза» вспоминает принца Филиппа.\n",
      "\n",
      "Решение КС было вынесено в рамках рассмотрения жалобы жительницы Оренбургской области, которую систематически избивал брат. Сначала он был привлечен за побои к административной ответственности, затем — к уголовной. Впоследствии, уже имея судимость, он снова избил сестру, однако за это получил лишь административное наказание — так как с точки зрения законодательства его правонарушение уже не было «повторным». КС счел, что действующая редакция статьи ставит граждан, имеющих судимость, в привилегированное положение\n",
      "\n",
      "Не смотрите на это прямо сейчас\n",
      "\n",
      "Активисты радикального прокремлевского движения SERB 9 апреля напали на режиссера Виталия Манского, основателя фестиваля «Артдокфест». Это произошло в московском кинотеатре «Октябрь».\n",
      "По информации пресс-службы фестиваля, один из активистов, у которого в руках была тряпка, взял ее с двух сторон и со спины попытался накинуть ее на режиссера. Тот увернулся. \n",
      "В самом SERB заявили, что \"просто бросили ему [Манскому] в лицо, на голову трусы\", \"Помните, он когда-то стоял на Лубянке с трусами в руках, и мы как бы бросили ему обратный перформанс\", - сказал активист Гоша Тарасевич.\n",
      "\n",
      "Рэперу было 50 лет\n",
      "\n",
      "Издание «Проект» на этой неделе выпустило расследование, посвященное семье главы Чечни Рамзана Кадырова — его женам («первой» и «второй»), а также роскошной недвижимости, которая на них оформлена. Дмитрий Песков, впрочем, заявил, что поводов проверять источники дохода Кадырова нет: «Расследование — это одно, а декларирование — это другое».\n",
      "Одновременно Первый канал удалил со своего сайта репортаж 2006 года о конкурсе красоты в Чечне, в котором фигурирует Фатима Хазуева — ее «Проект» называет «второй женой» Кадырова. Кроме того, как рассказал «Медузе» основатель и главный редактор «Проекта» Роман Баданин, хакеры обрушили сайт «Проекта»; DDoS-атака продолжается уже двое суток.\n",
      "В знак солидарности с коллегами «Медуза» публикует полный текст этого расследования.\n",
      "\n",
      "В Китае идет кампания бойкота H&M, Adidas, Nike и других брендов. Эти корпорации высказались по поводу притеснения в КНР тюркского меньшинства — уйгуров. Китайское руководство, как утверждают правозащитники, принуждает уйгуров к бесплатному труду и нарушает их права.\n",
      "Парадокс в том, что многие китайцы поддерживают политику Пекина по отношению к уйгурам.\n",
      "В подкасте «Что случилось» китаист Александр Габуев рассказывает, что известно о китайском национализме. И объясняет, как колониальное прошлое и распад СССР — нет, не оправдывают, но делают более понятными причины китайской репрессивной политики в отношении населения Синьцзян-Уйгурского автономного округа, Тибета и даже Гонконга.\n",
      "\n"
     ]
    }
   ],
   "source": [
    "for post_soup in result:\n",
    "    content = post_soup.find('div', attrs={'dir': 'auto'}).find('span', attrs={'dir': 'auto'}).findAll('div', recursive=False)\n",
    "    print('\\n'.join(list(map(lambda x: x.text, content))))\n",
    "    print()\n",
    "\n",
    "    # post_soup.find('div', attrs={'dir': 'auto'}).findAll('div')"
   ]
  },
  {
   "cell_type": "code",
   "execution_count": null,
   "metadata": {},
   "outputs": [],
   "source": []
  }
 ],
 "metadata": {
  "kernelspec": {
   "display_name": "Python 3",
   "language": "python",
   "name": "python3"
  },
  "language_info": {
   "codemirror_mode": {
    "name": "ipython",
    "version": 3
   },
   "file_extension": ".py",
   "mimetype": "text/x-python",
   "name": "python",
   "nbconvert_exporter": "python",
   "pygments_lexer": "ipython3",
   "version": "3.8.3"
  }
 },
 "nbformat": 4,
 "nbformat_minor": 2
}
