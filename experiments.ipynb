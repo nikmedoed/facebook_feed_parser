{
 "cells": [
  {
   "cell_type": "code",
   "execution_count": 7,
   "metadata": {},
   "outputs": [],
   "source": [
    "import copy\n",
    "import multiprocessing as mp\n",
    "import multiprocessing.dummy as dummy_mp\n",
    "import os\n",
    "import re\n",
    "from datetime import datetime\n",
    "from string import Template\n",
    "\n",
    "import pymorphy2\n",
    "from bs4 import BeautifulSoup\n",
    "from selenium import webdriver\n",
    "from selenium.common.exceptions import NoSuchElementException, TimeoutException\n",
    "from selenium.webdriver.common.by import By\n",
    "from selenium.webdriver.support import expected_conditions as EC\n",
    "from selenium.webdriver.support.ui import WebDriverWait\n",
    "\n",
    "FB_LOGIN = '89026051080'\n",
    "FB_PASSWORD = 'z6A-8Wd-XiV-VNY'\n",
    "login, password = FB_LOGIN, FB_PASSWORD\n",
    "\n",
    "__base_url = 'https://www.facebook.com'\n",
    "__base_group_url = 'https://www.facebook.com/groups'\n",
    "__login_url = 'https://www.facebook.com/login'\n",
    "\n",
    "options = webdriver.ChromeOptions()\n",
    "options.add_argument(\"--no-sandbox\")\n",
    "options.add_argument(\"--disable-gpu\")\n",
    "\n",
    "options.add_argument(\"--disable-software-rasterizer\")  # maybe not needed\n",
    "options.add_argument(\"--disable-dev-shm-usage\")  # maybe not needed\n",
    "\n",
    "browser = webdriver.Chrome(options = options)"
   ]
  },
  {
   "cell_type": "code",
   "execution_count": 10,
   "metadata": {},
   "outputs": [],
   "source": [
    "def enter_facebook(browser, login, password):\n",
    "    \"\"\"Login to fb\n",
    "\n",
    "    :param login: (str) fb login\n",
    "    :param password: (str) fb password\n",
    "\n",
    "    :return: -1 if error\n",
    "    \"\"\"\n",
    "    browser.get(__login_url)\n",
    "\n",
    "    try:\n",
    "        login_form = browser.find_element_by_xpath(\"//input[@id='email' or @name='email']\")\n",
    "        login_form.clear()\n",
    "        login_form.send_keys(login)\n",
    "    except Exception as e:\n",
    "        print(e)\n",
    "        print('error: email')\n",
    "        return -1\n",
    "\n",
    "    try:\n",
    "        pass_form = browser.find_element_by_xpath(\"//input[@id='pass' or @name='pass']\")\n",
    "        pass_form.clear()\n",
    "        pass_form.send_keys(password)\n",
    "    except Exception as e:\n",
    "        print(e)\n",
    "        print('error: password')\n",
    "        return -1\n",
    "\n",
    "    try:\n",
    "        browser.find_element_by_xpath(\"//button[@id='loginbutton']\").click()\n",
    "    except Exception as e:\n",
    "        print(e)\n",
    "        print('error: login button')\n",
    "        return -1\n",
    "\n",
    "    if 'login_attempt' in browser.current_url:\n",
    "        return -1"
   ]
  },
  {
   "cell_type": "code",
   "execution_count": 11,
   "metadata": {},
   "outputs": [],
   "source": [
    "enter_facebook(browser, FB_LOGIN, FB_PASSWORD)"
   ]
  },
  {
   "cell_type": "code",
   "execution_count": 12,
   "metadata": {
    "scrolled": true
   },
   "outputs": [],
   "source": [
    "# posts = fb.get_posts('100032357613324')\n",
    "page_id = '100032357613324'\n",
    "browser.get(__base_url + '/' + page_id)"
   ]
  },
  {
   "cell_type": "markdown",
   "metadata": {},
   "source": [
    "page_soup = BeautifulSoup(browser.page_source, 'lxml')"
   ]
  },
  {
   "cell_type": "code",
   "execution_count": 15,
   "metadata": {},
   "outputs": [],
   "source": [
    "nonavbl = page_soup.find('title', text=re.compile('.*Страница не найдена.*'))\n",
    "if nonavbl:\n",
    "    print('Страница не найдена')\n",
    "nonavbl = page_soup.find('h2', text=re.compile('.*Эта страница недоступна.*'))\n",
    "if nonavbl:\n",
    "    print('Эта страница недоступна')\n",
    "nonavbl = page_soup.find('h2', text=re.compile('.*К сожалению, этот контент сейчас недоступен.*'))\n",
    "if nonavbl:\n",
    "    print('К сожалению, этот контент сейчас недоступен')"
   ]
  },
  {
   "cell_type": "code",
   "execution_count": 16,
   "metadata": {},
   "outputs": [],
   "source": [
    "page_soup.find('title', text=re.compile('.*Страница не найдена.*'))"
   ]
  },
  {
   "cell_type": "code",
   "execution_count": 22,
   "metadata": {},
   "outputs": [],
   "source": [
    "from time import sleep "
   ]
  },
  {
   "cell_type": "code",
   "execution_count": 23,
   "metadata": {},
   "outputs": [],
   "source": [
    "posts_list = []\n",
    "error_count = 0\n",
    "for i in range(3):\n",
    "    browser.execute_script(\"window.scrollTo(0, document.body.scrollHeight);\")\n",
    "    sleep(1)"
   ]
  },
  {
   "cell_type": "code",
   "execution_count": 29,
   "metadata": {},
   "outputs": [],
   "source": [
    "try:\n",
    "    timeline = WebDriverWait(browser, 5).until(EC.presence_of_element_located((By.XPATH, '//div[@data-pagelet=\"ProfileTimeline\"]')))\n",
    "except TimeoutException:\n",
    "    print(posts_list)\n",
    "    "
   ]
  },
  {
   "cell_type": "code",
   "execution_count": null,
   "metadata": {},
   "outputs": [],
   "source": [
    "browser.find_elements_by_xpath('//*[@id=\"mount_0_0_sv\"]/div/div[1]/div/div[3]/div/div/div[1]/div[1]/div[2]/div/div/div/div/div/div[4]/div[2]/div/div[2]/div[3]/div[2]')"
   ]
  },
  {
   "cell_type": "code",
   "execution_count": 27,
   "metadata": {},
   "outputs": [
    {
     "data": {
      "text/plain": [
       "[<selenium.webdriver.remote.webelement.WebElement (session=\"3dade6c9669cc5cadd569c23b8393bb5\", element=\"9b9e055d-02e1-490c-ba24-cdc5c5dbfb36\")>]"
      ]
     },
     "execution_count": 27,
     "metadata": {},
     "output_type": "execute_result"
    }
   ],
   "source": [
    "# browser.find_element_by_xpath(\"//*[@id=\"mount_0_0_sv\"]/div/div[1]/div/div[3]/div/div/div[1]/div[1]/div[2]/div/div/div/div/div/div[4]/div[2]/div/div[2]/div[3]\")\n",
    "browser.find_element_by_xpath('//div[@data-pagelet=\"ProfileTimeline\"]')"
   ]
  },
  {
   "cell_type": "raw",
   "metadata": {},
   "source": []
  },
  {
   "cell_type": "code",
   "execution_count": null,
   "metadata": {},
   "outputs": [],
   "source": [
    "while len(posts_list) < limit:\n",
    "    flag = browser.execute_script(js_post_prl_sqript.substitute(XPATH=post_prl_xpath))\n",
    "    while flag != -1:\n",
    "        flag = browser.execute_script(js_post_prl_sqript.substitute(XPATH=post_prl_xpath))\n",
    "\n",
    "    if need_comments:\n",
    "        # flag = browser.try_click_by_xpath(comment_area_prl_xpath)\n",
    "        # while flag != -1:\n",
    "        #    flag = browser.try_click_by_xpath(comment_area_prl_xpath)\n",
    "\n",
    "        flag = browser.try_click_by_xpath(comment_prl_xpath)\n",
    "        while flag != -1:\n",
    "            flag = browser.try_click_by_xpath(comment_prl_xpath)\n",
    "\n",
    "    try:\n",
    "        browser.execute_script(\"window.scrollTo(0, document.body.scrollHeight);\")\n",
    "        posts_list = browser.find_elements_by_xpath(post_xpath)\n",
    "        if posts_list is None:\n",
    "            return []\n",
    "\n",
    "        if from_date is not None and posts_list:\n",
    "            last_post = Post('some', BeautifulSoup(posts_list[-1].get_attribute('innerHTML')))\n",
    "            if last_post.date is not None:\n",
    "                if last_post.date.timestamp() < from_date:\n",
    "                    return posts_list\n",
    "\n",
    "    except Exception as e:\n",
    "        print(e)\n",
    "        error_count += 1\n",
    "        if error_count > 100:\n",
    "            if posts_list is None:\n",
    "                return []\n",
    "\n",
    "            return posts_list\n",
    "\n",
    "if posts_list is None:\n",
    "    return []"
   ]
  }
 ],
 "metadata": {
  "kernelspec": {
   "display_name": "Python 3",
   "language": "python",
   "name": "python3"
  },
  "language_info": {
   "codemirror_mode": {
    "name": "ipython",
    "version": 3
   },
   "file_extension": ".py",
   "mimetype": "text/x-python",
   "name": "python",
   "nbconvert_exporter": "python",
   "pygments_lexer": "ipython3",
   "version": "3.8.3"
  }
 },
 "nbformat": 4,
 "nbformat_minor": 2
}
